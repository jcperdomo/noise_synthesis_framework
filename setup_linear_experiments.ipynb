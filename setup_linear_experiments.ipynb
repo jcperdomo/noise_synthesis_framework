{
 "cells": [
  {
   "cell_type": "code",
   "execution_count": 30,
   "metadata": {},
   "outputs": [],
   "source": [
    "from tensorflow.examples.tutorials.mnist import input_data\n",
    "from sklearn.svm import LinearSVC\n",
    "import numpy as np\n",
    "from linear_models import LinearOneVsAllClassifier, LinearBinaryClassifier\n",
    "import os\n",
    "from utils import generate_exp_data, subset_binary_data, find_noise_bounds_binary"
   ]
  },
  {
   "cell_type": "code",
   "execution_count": 2,
   "metadata": {},
   "outputs": [
    {
     "name": "stdout",
     "output_type": "stream",
     "text": [
      "Extracting MNIST_data/train-images-idx3-ubyte.gz\n",
      "Extracting MNIST_data/train-labels-idx1-ubyte.gz\n",
      "Extracting MNIST_data/t10k-images-idx3-ubyte.gz\n",
      "Extracting MNIST_data/t10k-labels-idx1-ubyte.gz\n"
     ]
    }
   ],
   "source": [
    "mnist = input_data.read_data_sets(\"MNIST_data/\", one_hot=True)"
   ]
  },
  {
   "cell_type": "code",
   "execution_count": 3,
   "metadata": {},
   "outputs": [],
   "source": [
    "mnist_train_images = np.copy(mnist.train.images)\n",
    "mnist_train_labels = np.argmax(mnist.train.labels, axis=1)\n",
    "mnist_test_images = mnist.test.images\n",
    "mnist_test_labels = np.argmax(mnist.test.labels, axis=1)"
   ]
  },
  {
   "cell_type": "code",
   "execution_count": null,
   "metadata": {},
   "outputs": [],
   "source": [
    "num_models = 5\n",
    "mnist_num_dim = 28 * 28\n",
    "linear_models = []\n",
    "zeroed_features_list = []\n",
    "for i in xrange(num_models):\n",
    "    sparse_mnist_images = np.copy(mnist_images)\n",
    "    zeroed_features = np.random.randint(0, mnist_num_dim, int(.75 * mnist_num_dim))\n",
    "    zeroed_features_list.append(zeroed_features)\n",
    "    sparse_mnist_images[:, zeroed_features] = 0.0\n",
    "    model = LinearSVC(loss='hinge')\n",
    "    model.fit(sparse_mnist_images, mnist_labels)\n",
    "    model = LinearOneVsAllClassifier(10, model.coef_, model.intercept_)\n",
    "    linear_models.append(model)"
   ]
  },
  {
   "cell_type": "code",
   "execution_count": null,
   "metadata": {},
   "outputs": [],
   "source": [
    "[model.evaluate(mnist_test_images, mnist_test_labels) for model in linear_models]"
   ]
  },
  {
   "cell_type": "code",
   "execution_count": null,
   "metadata": {},
   "outputs": [],
   "source": [
    "# check that the models have no nonzero weights in any of the zeroed out dimensions\n",
    "[sum(linear_models[i].weights[:,zeroed_features_list[i]].reshape(-1,)) for i in xrange(len(linear_models))]"
   ]
  },
  {
   "cell_type": "code",
   "execution_count": null,
   "metadata": {},
   "outputs": [],
   "source": [
    "os.mkdir('linear_models')"
   ]
  },
  {
   "cell_type": "code",
   "execution_count": null,
   "metadata": {},
   "outputs": [],
   "source": [
    "for i, model in enumerate(linear_models):\n",
    "    np.save('linear_models/w_{}.npy'.format(i), model.weights)\n",
    "    np.save('linear_models/b_{}.npy'.format(i), model.bias)"
   ]
  },
  {
   "cell_type": "code",
   "execution_count": null,
   "metadata": {},
   "outputs": [],
   "source": [
    "X_exp, Y_exp = generate_exp_data(1000, mnist_test_images, mnist_test_labels, linear_models)"
   ]
  },
  {
   "cell_type": "code",
   "execution_count": null,
   "metadata": {},
   "outputs": [],
   "source": [
    "[model.evaluate(X_exp, Y_exp) for model in linear_models]"
   ]
  },
  {
   "cell_type": "code",
   "execution_count": null,
   "metadata": {},
   "outputs": [],
   "source": [
    "os.mkdir('linear_experiments_data')"
   ]
  },
  {
   "cell_type": "code",
   "execution_count": null,
   "metadata": {},
   "outputs": [],
   "source": [
    "np.save('linear_experiments_data/X_exp_multi.npy', X_exp)\n",
    "np.save('linear_experiments_data/Y_exp_multi.npy', Y_exp)"
   ]
  },
  {
   "cell_type": "markdown",
   "metadata": {},
   "source": [
    "# Setup Binary Experiments"
   ]
  },
  {
   "cell_type": "code",
   "execution_count": 4,
   "metadata": {},
   "outputs": [],
   "source": [
    "binary_train_images, binary_train_labels = subset_binary_data(mnist_train_images, mnist_train_labels, {4: -1, 9:1})\n",
    "binary_test_images, binary_test_labels = subset_binary_data(mnist_test_images, mnist_test_labels, {4: -1, 9:1})"
   ]
  },
  {
   "cell_type": "code",
   "execution_count": 9,
   "metadata": {},
   "outputs": [
    {
     "data": {
      "text/plain": [
       "(1991, 784)"
      ]
     },
     "execution_count": 9,
     "metadata": {},
     "output_type": "execute_result"
    }
   ],
   "source": [
    "binary_test_images.shape"
   ]
  },
  {
   "cell_type": "code",
   "execution_count": 14,
   "metadata": {},
   "outputs": [],
   "source": [
    "binary_models = []\n",
    "num_models = 5\n",
    "mnist_num_dim = 28 * 28\n",
    "linear_models = []\n",
    "zeroed_features_list = []\n",
    "for i in xrange(num_models):\n",
    "    sparse_binary_images = np.copy(binary_train_images)\n",
    "    zeroed_features = np.random.randint(0, mnist_num_dim, int(.75 * mnist_num_dim))\n",
    "    zeroed_features_list.append(zeroed_features)\n",
    "    sparse_binary_images[:, zeroed_features] = 0.0\n",
    "    model = LinearSVC(loss='hinge')    \n",
    "    model.fit(sparse_binary_images, binary_train_labels)\n",
    "    model = LinearBinaryClassifier(model.coef_.T, model.intercept_)\n",
    "    binary_models.append(model)"
   ]
  },
  {
   "cell_type": "code",
   "execution_count": 15,
   "metadata": {},
   "outputs": [
    {
     "data": {
      "text/plain": [
       "[0.9552988448016072,\n",
       " 0.9688598694123556,\n",
       " 0.9648417880462079,\n",
       " 0.9673530889000502,\n",
       " 0.9653440482169764]"
      ]
     },
     "execution_count": 15,
     "metadata": {},
     "output_type": "execute_result"
    }
   ],
   "source": [
    "[model.evaluate(binary_test_images, binary_test_labels) for model in binary_models]"
   ]
  },
  {
   "cell_type": "code",
   "execution_count": 18,
   "metadata": {},
   "outputs": [
    {
     "data": {
      "text/plain": [
       "[0.0, 0.0, 0.0, 0.0, 0.0]"
      ]
     },
     "execution_count": 18,
     "metadata": {},
     "output_type": "execute_result"
    }
   ],
   "source": [
    "[sum(binary_models[i].weights[zeroed_features_list[i]].reshape(-1,)) for i in xrange(len(binary_models))]"
   ]
  },
  {
   "cell_type": "code",
   "execution_count": 16,
   "metadata": {},
   "outputs": [],
   "source": [
    "os.mkdir('linear_models/binary')"
   ]
  },
  {
   "cell_type": "code",
   "execution_count": 19,
   "metadata": {},
   "outputs": [],
   "source": [
    "for i, model in enumerate(binary_models):\n",
    "    np.save('linear_models/binary/w_{}.npy'.format(i), model.weights)\n",
    "    np.save('linear_models/binary/b_{}.npy'.format(i), model.bias)"
   ]
  },
  {
   "cell_type": "code",
   "execution_count": 25,
   "metadata": {},
   "outputs": [],
   "source": [
    "X_exp_binary, Y_exp_binary = generate_exp_data(1000, binary_test_images, binary_test_labels, binary_models)"
   ]
  },
  {
   "cell_type": "code",
   "execution_count": 26,
   "metadata": {},
   "outputs": [
    {
     "data": {
      "text/plain": [
       "[1.0, 1.0, 1.0, 1.0, 1.0]"
      ]
     },
     "execution_count": 26,
     "metadata": {},
     "output_type": "execute_result"
    }
   ],
   "source": [
    "[model.evaluate(X_exp_binary, Y_exp_binary) for model in binary_models]"
   ]
  },
  {
   "cell_type": "code",
   "execution_count": 28,
   "metadata": {},
   "outputs": [
    {
     "name": "stdout",
     "output_type": "stream",
     "text": [
      "(1000, 784)\n",
      "(1000,)\n"
     ]
    }
   ],
   "source": [
    "print X_exp_binary.shape\n",
    "print Y_exp_binary.shape"
   ]
  },
  {
   "cell_type": "code",
   "execution_count": 29,
   "metadata": {},
   "outputs": [],
   "source": [
    "os.mkdir('linear_experiments_data/binary')\n",
    "np.save('linear_experiments_data/binary/X_exp.npy', X_exp_binary)\n",
    "np.save('linear_experiments_data/binary/Y_exp.npy', Y_exp_binary)"
   ]
  },
  {
   "cell_type": "code",
   "execution_count": 32,
   "metadata": {},
   "outputs": [],
   "source": [
    "min_bounds, max_bounds = find_noise_bounds_binary(binary_models, X_exp_binary, Y_exp_binary)"
   ]
  },
  {
   "cell_type": "code",
   "execution_count": 33,
   "metadata": {},
   "outputs": [
    {
     "name": "stdout",
     "output_type": "stream",
     "text": [
      "0.28278552220426245 0.4373595144920036\n"
     ]
    }
   ],
   "source": [
    "print np.median(min_bounds), np.median(max_bounds)"
   ]
  },
  {
   "cell_type": "code",
   "execution_count": null,
   "metadata": {},
   "outputs": [],
   "source": []
  }
 ],
 "metadata": {
  "kernelspec": {
   "display_name": "Python [default]",
   "language": "python",
   "name": "python2"
  },
  "language_info": {
   "codemirror_mode": {
    "name": "ipython",
    "version": 2
   },
   "file_extension": ".py",
   "mimetype": "text/x-python",
   "name": "python",
   "nbconvert_exporter": "python",
   "pygments_lexer": "ipython2",
   "version": "2.7.12"
  }
 },
 "nbformat": 4,
 "nbformat_minor": 2
}
