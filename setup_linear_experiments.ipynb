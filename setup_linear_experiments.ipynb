{
 "cells": [
  {
   "cell_type": "code",
   "execution_count": 32,
   "metadata": {},
   "outputs": [],
   "source": [
    "from tensorflow.examples.tutorials.mnist import input_data\n",
    "from sklearn.svm import LinearSVC\n",
    "import numpy as np\n",
    "from linear_models import LinearOneVsAllClassifier\n",
    "import os\n",
    "from helper import generate_exp_data"
   ]
  },
  {
   "cell_type": "code",
   "execution_count": 2,
   "metadata": {},
   "outputs": [
    {
     "name": "stdout",
     "output_type": "stream",
     "text": [
      "Extracting MNIST_data/train-images-idx3-ubyte.gz\n",
      "Extracting MNIST_data/train-labels-idx1-ubyte.gz\n",
      "Extracting MNIST_data/t10k-images-idx3-ubyte.gz\n",
      "Extracting MNIST_data/t10k-labels-idx1-ubyte.gz\n"
     ]
    }
   ],
   "source": [
    "mnist = input_data.read_data_sets(\"MNIST_data/\", one_hot=True)"
   ]
  },
  {
   "cell_type": "code",
   "execution_count": 12,
   "metadata": {},
   "outputs": [],
   "source": [
    "mnist_train_images = np.copy(mnist.train.images)\n",
    "mnist_train_labels = np.argmax(mnist.train.labels, axis=1)\n",
    "mnist_test_images = mnist.test.images\n",
    "mnist_test_labels = np.argmax(mnist.test.labels, axis=1)"
   ]
  },
  {
   "cell_type": "code",
   "execution_count": 10,
   "metadata": {},
   "outputs": [],
   "source": [
    "num_models = 5\n",
    "mnist_num_dim = 28 * 28\n",
    "linear_models = []\n",
    "zeroed_features_list = []\n",
    "for i in xrange(num_models):\n",
    "    sparse_mnist_images = np.copy(mnist_images)\n",
    "    zeroed_features = np.random.randint(0, mnist_num_dim, int(.75 * mnist_num_dim))\n",
    "    zeroed_features_list.append(zeroed_features)\n",
    "    sparse_mnist_images[:, zeroed_features] = 0.0\n",
    "    model = LinearSVC(loss='hinge')\n",
    "    model.fit(sparse_mnist_images, mnist_labels)\n",
    "    model = LinearOneVsAllClassifier(10, model.coef_, model.intercept_)\n",
    "    linear_models.append(model)"
   ]
  },
  {
   "cell_type": "code",
   "execution_count": 13,
   "metadata": {},
   "outputs": [
    {
     "data": {
      "text/plain": [
       "[0.9152, 0.9138, 0.917, 0.9156, 0.9147]"
      ]
     },
     "execution_count": 13,
     "metadata": {},
     "output_type": "execute_result"
    }
   ],
   "source": [
    "[model.evaluate(mnist_test_images, mnist_test_labels) for model in linear_models]"
   ]
  },
  {
   "cell_type": "code",
   "execution_count": 20,
   "metadata": {},
   "outputs": [
    {
     "data": {
      "text/plain": [
       "[0.0, 0.0, 0.0, 0.0, 0.0]"
      ]
     },
     "execution_count": 20,
     "metadata": {},
     "output_type": "execute_result"
    }
   ],
   "source": [
    "# check that the models have no nonzero weights in any of the zeroed out dimensions\n",
    "[sum(linear_models[i].weights[:,zeroed_features_list[i]].reshape(-1,)) for i in xrange(len(linear_models))]"
   ]
  },
  {
   "cell_type": "code",
   "execution_count": 22,
   "metadata": {},
   "outputs": [],
   "source": [
    "os.mkdir('linear_models')"
   ]
  },
  {
   "cell_type": "code",
   "execution_count": 23,
   "metadata": {},
   "outputs": [],
   "source": [
    "for i, model in enumerate(linear_models):\n",
    "    np.save('linear_models/w_{}.npy'.format(i), model.weights)\n",
    "    np.save('linear_models/b_{}.npy'.format(i), model.bias)"
   ]
  },
  {
   "cell_type": "code",
   "execution_count": 26,
   "metadata": {},
   "outputs": [],
   "source": [
    "X_exp, Y_exp = generate_exp_data(1000, mnist_test_images, mnist_test_labels, linear_models)"
   ]
  },
  {
   "cell_type": "code",
   "execution_count": 27,
   "metadata": {},
   "outputs": [
    {
     "data": {
      "text/plain": [
       "[1.0, 1.0, 1.0, 1.0, 1.0]"
      ]
     },
     "execution_count": 27,
     "metadata": {},
     "output_type": "execute_result"
    }
   ],
   "source": [
    "[model.evaluate(X_exp, Y_exp) for model in linear_models]"
   ]
  },
  {
   "cell_type": "code",
   "execution_count": 28,
   "metadata": {},
   "outputs": [],
   "source": [
    "os.mkdir('linear_experiments_data')"
   ]
  },
  {
   "cell_type": "code",
   "execution_count": 29,
   "metadata": {},
   "outputs": [],
   "source": [
    "np.save('linear_experiments_data/X_exp_multi.npy', X_exp)\n",
    "np.save('linear_experiments_data/Y_exp_multi.npy', Y_exp)"
   ]
  },
  {
   "cell_type": "code",
   "execution_count": null,
   "metadata": {},
   "outputs": [],
   "source": []
  }
 ],
 "metadata": {
  "kernelspec": {
   "display_name": "Python [default]",
   "language": "python",
   "name": "python2"
  },
  "language_info": {
   "codemirror_mode": {
    "name": "ipython",
    "version": 2
   },
   "file_extension": ".py",
   "mimetype": "text/x-python",
   "name": "python",
   "nbconvert_exporter": "python",
   "pygments_lexer": "ipython2",
   "version": "2.7.12"
  }
 },
 "nbformat": 4,
 "nbformat_minor": 2
}
