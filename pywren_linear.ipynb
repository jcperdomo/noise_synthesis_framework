{
 "cells": [
  {
   "cell_type": "code",
   "execution_count": 1,
   "metadata": {},
   "outputs": [],
   "source": [
    "%load_ext autoreload\n",
    "%load_ext line_profiler\n",
    "%autoreload 2 "
   ]
  },
  {
   "cell_type": "code",
   "execution_count": 2,
   "metadata": {},
   "outputs": [],
   "source": [
    "import pywren\n",
    "import time\n",
    "from tensorflow.examples.tutorials.mnist import input_data\n",
    "# %aimport linear_models\n",
    "from linear_models import LinearOneVsAllClassifier\n",
    "import numpy as np\n",
    "from helper import generate_data\n",
    "from itertools import product\n",
    "from cvxopt import matrix, solvers"
   ]
  },
  {
   "cell_type": "code",
   "execution_count": 3,
   "metadata": {},
   "outputs": [
    {
     "name": "stdout",
     "output_type": "stream",
     "text": [
      "Extracting MNIST_data/train-images-idx3-ubyte.gz\n",
      "Extracting MNIST_data/train-labels-idx1-ubyte.gz\n",
      "Extracting MNIST_data/t10k-images-idx3-ubyte.gz\n",
      "Extracting MNIST_data/t10k-labels-idx1-ubyte.gz\n"
     ]
    }
   ],
   "source": [
    "mnist = input_data.read_data_sets(\"MNIST_data/\", one_hot=True)\n",
    "mnist_images = np.copy(mnist.train.images)\n",
    "mnist_labels = np.argmax(mnist.train.labels, axis=1)\n",
    "mnist_test_images = mnist.test.images\n",
    "mnist_test_labels = np.argmax(mnist.test.labels, axis=1)"
   ]
  },
  {
   "cell_type": "code",
   "execution_count": 4,
   "metadata": {},
   "outputs": [],
   "source": [
    "models = [LinearOneVsAllClassifier(10, np.load('test/w_{}.npy'.format(i)), np.load('test/b_{}.npy'.format(i)))\n",
    "          for i in range(5)]"
   ]
  },
  {
   "cell_type": "code",
   "execution_count": 5,
   "metadata": {},
   "outputs": [],
   "source": [
    "X_exp, Y_exp = generate_data(5, mnist_images, mnist_labels, models)"
   ]
  },
  {
   "cell_type": "code",
   "execution_count": 6,
   "metadata": {},
   "outputs": [
    {
     "data": {
      "text/plain": [
       "[1.0, 1.0, 1.0, 1.0, 1.0]"
      ]
     },
     "execution_count": 6,
     "metadata": {},
     "output_type": "execute_result"
    }
   ],
   "source": [
    "[model.evaluate(X_exp, Y_exp) for model in models]"
   ]
  },
  {
   "cell_type": "code",
   "execution_count": 7,
   "metadata": {},
   "outputs": [],
   "source": [
    "import scipy.optimize as opt\n",
    "\n",
    "def tryRegionOneVsAllScipy(models, labels, x, delta=1e-6, attempts=0):\n",
    "    \n",
    "    def objective(v):\n",
    "        return .5  * v.dot(v)\n",
    "\n",
    "    def gradient(v):\n",
    "        return v\n",
    "    \n",
    "    h = []\n",
    "    G = []\n",
    "    num_models = len(models)\n",
    "    for i in xrange(num_models):\n",
    "        others = range(10)\n",
    "        target = labels[i]\n",
    "        del others[target]\n",
    "        target_w, target_b = models[i].weights[target], models[i].bias[target]\n",
    "        for j in others:\n",
    "            other_w, other_b = models[i].weights[j], models[i].bias[j]\n",
    "            ineq_val = np.dot(target_w - other_w, x) + target_b - other_b - delta\n",
    "            h.append(ineq_val)\n",
    "            G.append(other_w - target_w)\n",
    "\n",
    "    def cons_i(z, i):\n",
    "        return -1 * G[i].dot(z) + h[i]\n",
    "    \n",
    "    cons_per_i = [{'type':'ineq', 'fun': lambda z, i=i: cons_i(z, i)} for i in np.arange(len(G))]\n",
    "\n",
    "    sol = opt.minimize(objective, np.zeros(x.shape[0]), jac=gradient, constraints=cons_per_i, \n",
    "                       options={'disp': False}, method='SLSQP')\n",
    "    if sol.success:\n",
    "        v = sol.x\n",
    "        perturbed_x = np.array(x + v).reshape(1, -1)\n",
    "        is_desired_label = [models[i].predict(perturbed_x)[0] == labels[i] for i in xrange(num_models)]\n",
    "        if sum(is_desired_label) == num_models:\n",
    "            return v\n",
    "        else:\n",
    "            attempts += 1\n",
    "            return tryRegionOneVsAllScipy(models, labels, x, delta * 1.5, attempts)\n",
    "    else:\n",
    "        return None"
   ]
  },
  {
   "cell_type": "code",
   "execution_count": 23,
   "metadata": {},
   "outputs": [
    {
     "name": "stdout",
     "output_type": "stream",
     "text": [
      "10.013655901\n",
      "done\n"
     ]
    }
   ],
   "source": [
    "import ray\n",
    "import time\n",
    "\n",
    "# ray.init()\n",
    "\n",
    "@ray.remote\n",
    "def function(x):\n",
    "    time.sleep(10)\n",
    "    return x\n",
    "\n",
    "arglist = [1, 2, 3, 4]\n",
    "s = time.time()\n",
    "result_ids = [function.remote(x) for x in arglist]\n",
    "resultlist = ray.get(result_ids)\n",
    "print time.time() - s \n",
    "print \"done\""
   ]
  },
  {
   "cell_type": "code",
   "execution_count": null,
   "metadata": {},
   "outputs": [],
   "source": []
  },
  {
   "cell_type": "code",
   "execution_count": 8,
   "metadata": {},
   "outputs": [],
   "source": [
    "def tryRegionOneVsAll(models, labels, x, delta=1e-8):\n",
    "    P = matrix(np.identity(x.shape[0]))\n",
    "    q = matrix(np.zeros(x.shape[0]))\n",
    "    h = []\n",
    "    G = []\n",
    "    num_models = len(models)\n",
    "    for i in xrange(num_models):\n",
    "        others = range(10)\n",
    "        target = labels[i]\n",
    "        del others[target]\n",
    "        target_w, target_b = models[i].weights[target], models[i].bias[target]\n",
    "        for j in others:\n",
    "            other_w, other_b = models[i].weights[j], models[i].bias[j]\n",
    "            ineq_val = np.dot(target_w - other_w, x) + target_b - other_b - delta\n",
    "            h.append(ineq_val)\n",
    "            G.append(other_w - target_w)\n",
    "    h = matrix(h)\n",
    "    G = matrix(np.array(G))\n",
    "    solvers.options['show_progress'] = False\n",
    "    sol = solvers.qp(P, q, G, h)\n",
    "    if sol['status'] == 'optimal':\n",
    "        v = np.array(sol['x']).reshape(-1,)\n",
    "        perturbed_x = np.array(x + v).reshape(1, -1)\n",
    "        is_desired_label = [models[i].predict(perturbed_x)[0] == labels[i] for i in xrange(num_models)]\n",
    "        if sum(is_desired_label) == num_models:\n",
    "            return v\n",
    "        else:\n",
    "            return tryRegionOneVsAll(models, labels, x, delta * 1.5)\n",
    "    else:\n",
    "        return None"
   ]
  },
  {
   "cell_type": "code",
   "execution_count": 9,
   "metadata": {},
   "outputs": [],
   "source": [
    "import quadprog"
   ]
  },
  {
   "cell_type": "code",
   "execution_count": 10,
   "metadata": {},
   "outputs": [],
   "source": [
    "def tryRegionOneVsAllQuadProg(models, labels, x, delta=1e-10):\n",
    "    P = np.identity(x.shape[0])\n",
    "    q = np.zeros(x.shape[0])\n",
    "    h = []\n",
    "    G = []\n",
    "    num_models = len(models)\n",
    "    for i in xrange(num_models):\n",
    "        others = range(10)\n",
    "        target = labels[i]\n",
    "        del others[target]\n",
    "        target_w, target_b = models[i].weights[target], models[i].bias[target]\n",
    "        for j in others:\n",
    "            other_w, other_b = models[i].weights[j], models[i].bias[j]\n",
    "            ineq_val = np.dot(target_w - other_w, x) + target_b - other_b - delta\n",
    "            h.append(ineq_val)\n",
    "            G.append(other_w - target_w)\n",
    "    h =  -1 * np.array(h)\n",
    "    G =  -1 * np.array(G).T\n",
    "    sol = quadprog.solve_qp(P, q, G, h)\n",
    "    return sol[0]\n",
    "#     if sol['status'] == 'optimal':\n",
    "#         v = np.array(sol['x']).reshape(-1,)\n",
    "#         perturbed_x = np.array(x + v).reshape(1, -1)\n",
    "#         is_desired_label = [models[i].predict(perturbed_x)[0] == labels[i] for i in xrange(num_models)]\n",
    "#         if sum(is_desired_label) == num_models:\n",
    "#             return v\n",
    "#         else:\n",
    "#             return tryRegionOneVsAll(models, labels, x, delta * 1.5)\n",
    "#     else:\n",
    "#         return None"
   ]
  },
  {
   "cell_type": "code",
   "execution_count": null,
   "metadata": {},
   "outputs": [],
   "source": [
    "v = tryRegionOneVsAllQuadProg(models, [4,2,3,3,5], X_exp[0])"
   ]
  },
  {
   "cell_type": "code",
   "execution_count": null,
   "metadata": {},
   "outputs": [],
   "source": [
    "%timeit sol = tryRegionOneVsAllScipy(models, [4,2,3,3,5], X_exp[0])"
   ]
  },
  {
   "cell_type": "code",
   "execution_count": null,
   "metadata": {},
   "outputs": [],
   "source": [
    "%timeit sol = tryRegionOneVsAll(models, [4,2,3,3,5], X_exp[0])"
   ]
  },
  {
   "cell_type": "code",
   "execution_count": null,
   "metadata": {},
   "outputs": [],
   "source": [
    "%timeit sol = tryRegionOneVsAllQuadProg(models, [4,2,3,3,5], X_exp[0])"
   ]
  },
  {
   "cell_type": "code",
   "execution_count": null,
   "metadata": {},
   "outputs": [],
   "source": [
    "%lprun -f  tryRegionOneVsAll tryRegionOneVsAll(models, [1,2,3,4,5], X_exp[0])"
   ]
  },
  {
   "cell_type": "code",
   "execution_count": null,
   "metadata": {},
   "outputs": [],
   "source": [
    "for i in range(25):\n",
    "    labels = np.random.choice(10, 5)\n",
    "    sol = tryRegionOneVsAllQuadProg(models, labels, X_exp[0])\n",
    "    sol2= tryRegionOneVsAll(models, labels, X_exp[0])\n",
    "    print np.linalg.norm(sol), np.linalg.norm(sol2)\n",
    "    print labels\n",
    "    preds = np.array([model.predict((X_exp[0] + sol).reshape(1,-1))[0] for model in models])\n",
    "    print preds\n",
    "    print (preds == labels).sum()"
   ]
  },
  {
   "cell_type": "code",
   "execution_count": null,
   "metadata": {},
   "outputs": [],
   "source": [
    "all_regions = product(range(10), repeat=len(models))\n",
    "size = 50\n",
    "main = 10 ** len(models) / size\n",
    "remaining = 10 ** len(models) - main * size \n",
    "sub_lists = [[next(all_regions) for _ in xrange(size)] for _ in xrange(main)]\n",
    "sub_lists.append([next(all_regions) for _ in xrange(remaining)])"
   ]
  },
  {
   "cell_type": "code",
   "execution_count": null,
   "metadata": {},
   "outputs": [],
   "source": [
    "sum([len(x) for x in sub_lists])"
   ]
  },
  {
   "cell_type": "code",
   "execution_count": null,
   "metadata": {},
   "outputs": [],
   "source": [
    "len(sub_lists)"
   ]
  },
  {
   "cell_type": "code",
   "execution_count": 11,
   "metadata": {},
   "outputs": [],
   "source": [
    "all_regions = product(range(10), repeat=len(models))\n",
    "sub_lists = [[next(all_regions) for _ in xrange(1)] for _ in xrange(3)]"
   ]
  },
  {
   "cell_type": "code",
   "execution_count": 12,
   "metadata": {},
   "outputs": [
    {
     "data": {
      "text/plain": [
       "480"
      ]
     },
     "execution_count": 12,
     "metadata": {},
     "output_type": "execute_result"
    }
   ],
   "source": [
    "sum([len(x) for x in sub_lists])"
   ]
  },
  {
   "cell_type": "code",
   "execution_count": 13,
   "metadata": {},
   "outputs": [],
   "source": [
    "from multiprocessing import Pool"
   ]
  },
  {
   "cell_type": "code",
   "execution_count": 18,
   "metadata": {},
   "outputs": [
    {
     "data": {
      "text/plain": [
       "3"
      ]
     },
     "execution_count": 18,
     "metadata": {},
     "output_type": "execute_result"
    }
   ],
   "source": [
    "len(sub_lists)"
   ]
  },
  {
   "cell_type": "code",
   "execution_count": 24,
   "metadata": {},
   "outputs": [
    {
     "name": "stdout",
     "output_type": "stream",
     "text": [
      "10.0278580189\n"
     ]
    }
   ],
   "source": [
    "def stop(x):\n",
    "    time.sleep(10)\n",
    "    return x\n",
    "\n",
    "start = time.time()\n",
    "p = Pool(4)\n",
    "result = p.map(stop, [1,2,3,4])\n",
    "print time.time() - start"
   ]
  },
  {
   "cell_type": "code",
   "execution_count": 15,
   "metadata": {},
   "outputs": [],
   "source": [
    "def test(labels_list):\n",
    "    return [tryRegionOneVsAll(models, labels, X_exp[0]) for labels in labels_list]"
   ]
  },
  {
   "cell_type": "code",
   "execution_count": null,
   "metadata": {},
   "outputs": [],
   "source": [
    "`\n",
    "start = time.time()\n",
    "p = Pool(3)\n",
    "result = p.map(test, sub_lists)\n",
    "print time.time() - start "
   ]
  },
  {
   "cell_type": "code",
   "execution_count": null,
   "metadata": {},
   "outputs": [],
   "source": [
    "start = time.time()\n",
    "def test(labels_list):\n",
    "    return [tryRegionOneVsAllScipy(models, labels, X_exp[0]) for labels in labels_list]\n",
    "pwex = pywren.default_executor()\n",
    "a = time.time()\n",
    "futures = pwex.map(test, sub_lists)\n",
    "print \"TIME\", time.time() - a\n",
    "results = pywren.get_all_results(futures)\n",
    "print \"Total Time\", start - time.time()"
   ]
  },
  {
   "cell_type": "code",
   "execution_count": null,
   "metadata": {},
   "outputs": [],
   "source": [
    "sum([len(res) for res in results])"
   ]
  },
  {
   "cell_type": "code",
   "execution_count": null,
   "metadata": {},
   "outputs": [],
   "source": [
    "!pywren print_latest_logs"
   ]
  },
  {
   "cell_type": "code",
   "execution_count": null,
   "metadata": {},
   "outputs": [],
   "source": [
    "len(results_with_pywren_map)"
   ]
  },
  {
   "cell_type": "code",
   "execution_count": null,
   "metadata": {},
   "outputs": [],
   "source": []
  },
  {
   "cell_type": "code",
   "execution_count": null,
   "metadata": {},
   "outputs": [],
   "source": []
  }
 ],
 "metadata": {
  "kernelspec": {
   "display_name": "Python [default]",
   "language": "python",
   "name": "python2"
  },
  "language_info": {
   "codemirror_mode": {
    "name": "ipython",
    "version": 2
   },
   "file_extension": ".py",
   "mimetype": "text/x-python",
   "name": "python",
   "nbconvert_exporter": "python",
   "pygments_lexer": "ipython2",
   "version": "2.7.12"
  }
 },
 "nbformat": 4,
 "nbformat_minor": 2
}
