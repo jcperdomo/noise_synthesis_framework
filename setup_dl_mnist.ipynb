{
 "cells": [
  {
   "cell_type": "code",
   "execution_count": null,
   "metadata": {},
   "outputs": [],
   "source": [
    "import numpy as np\n",
    "import keras \n",
    "from tensorflow.examples.tutorials.mnist import input_data\n",
    "from keras.models import Sequential\n",
    "from keras.layers import Dense, Activation, Flatten\n",
    "from keras.layers import Conv2D, MaxPooling2D, Dropout"
   ]
  },
  {
   "cell_type": "code",
   "execution_count": null,
   "metadata": {},
   "outputs": [],
   "source": [
    "mnist = input_data.read_data_sets(\"MNIST_data/\", one_hot=True)"
   ]
  },
  {
   "cell_type": "code",
   "execution_count": null,
   "metadata": {},
   "outputs": [],
   "source": [
    "mnist_train_images = mnist.train.images.reshape(-1, 28, 28, 1)\n",
    "mnist_train_labels = mnist.train.labels\n",
    "mnist_test_images = mnist.test.images.reshape(-1, 28, 28, 1)\n",
    "mnist_test_labels = mnist.test.labels\n",
    "mnist_validation_images = mnist.test.images.reshape(-1, 28, 28, 1)\n",
    "mnist_validation_labels = mnist.test.labels"
   ]
  },
  {
   "cell_type": "code",
   "execution_count": null,
   "metadata": {},
   "outputs": [],
   "source": [
    "model0 = Sequential()\n",
    "model0.add(Conv2D(32, (3, 3), activation='relu', input_shape=(28,28,1)))\n",
    "# model0.add(Dropout(.5))\n",
    "model0.add(Conv2D(32, (3, 3), activation='relu'))\n",
    "# model0.add(Dropout(.5))\n",
    "model0.add(MaxPooling2D(pool_size=(2, 2)))\n",
    "# model0.add(Dropout(.5))\n",
    "model0.add(Conv2D(64, (3, 3), activation='relu'))\n",
    "# model0.add(Dropout(.5))\n",
    "model0.add(Conv2D(64, (3, 3), activation='relu'))\n",
    "# model0.add(Dropout(.5))\n",
    "model0.add(MaxPooling2D(pool_size=(2, 2)))\n",
    "# model0.add(Dropout(.5))\n",
    "model0.add(Flatten())\n",
    "model0.add(Dense(200, activation='relu'))\n",
    "model0.add(Dropout(.5))\n",
    "model0.add(Dense(200, activation='relu'))\n",
    "model0.add(Dropout(.5))\n",
    "model0.add(Dense(10, activation='softmax'))\n",
    "model0.compile(loss='categorical_crossentropy',\n",
    "               optimizer=keras.optimizers.SGD(lr=0.01),\n",
    "               metrics=['accuracy'])\n",
    "\n",
    "model0.fit(mnist_train_images, mnist_train_labels, batch_size=128, epochs=10,\n",
    "          validation_data=(mnist_validation_images, mnist_validation_labels))\n",
    "#TODO: model0.save()"
   ]
  },
  {
   "cell_type": "code",
   "execution_count": null,
   "metadata": {},
   "outputs": [],
   "source": [
    "model1 = Sequential()\n",
    "model1.add(Conv2D(64, (4, 4), activation='relu', input_shape=(28,28,1)))\n",
    "# model1.add(Dropout(.5))\n",
    "model1.add(Conv2D(64, (4, 4), activation='relu'))\n",
    "# model1.add(Dropout(.5))\n",
    "model1.add(MaxPooling2D(pool_size=(2, 2)))\n",
    "# model1.add(Dropout(.5))\n",
    "model1.add(Flatten())\n",
    "model1.add(Dense(100, activation='relu'))\n",
    "model1.add(Dropout(.5))\n",
    "model1.add(Dense(100, activation='relu'))\n",
    "model1.add(Dropout(.5))\n",
    "model1.add(Dense(10, activation='softmax'))\n",
    "model1.compile(loss='categorical_crossentropy',\n",
    "               optimizer=keras.optimizers.SGD(lr=0.01),\n",
    "               metrics=['accuracy'])\n",
    "\n",
    "model1.fit(mnist_train_images, mnist_train_labels, batch_size=32, epochs=10,\n",
    "          validation_data=(mnist_validation_images, mnist_validation_labels))\n",
    "#TODO: model1.save()"
   ]
  },
  {
   "cell_type": "code",
   "execution_count": null,
   "metadata": {},
   "outputs": [],
   "source": [
    "model2 = Sequential()\n",
    "model2.add(Conv2D(32, kernel_size=(3, 3), activation='relu', input_shape=(28,28,1)))\n",
    "# model2.add(Dropout(.5))\n",
    "model2.add(Conv2D(32, (3, 3), activation='relu'))\n",
    "# model2.add(Dropout(.5))\n",
    "model2.add(Conv2D(32, (3, 3), activation='relu'))\n",
    "# model2.add(Dropout(.5))\n",
    "model2.add(MaxPooling2D(pool_size=(2, 2)))\n",
    "# model2.add(Dropout(.5))\n",
    "model2.add(Flatten())\n",
    "model2.add(Dense(50, activation='relu'))\n",
    "model2.add(Dropout(.5))\n",
    "model2.add(Dense(50, activation='relu'))\n",
    "model2.add(Dropout(.5))\n",
    "model2.add(Dense(10, activation='softmax'))\n",
    "model2.compile(loss='categorical_crossentropy',\n",
    "               optimizer=keras.optimizers.SGD(lr=0.01),\n",
    "               metrics=['accuracy'])\n",
    "model2.fit(mnist_train_images, mnist_train_labels, batch_size=32, epochs=10,\n",
    "          validation_data=(mnist_validation_images, mnist_validation_labels))\n",
    "#TODO: model0.save()"
   ]
  },
  {
   "cell_type": "code",
   "execution_count": null,
   "metadata": {},
   "outputs": [],
   "source": [
    "model3 = Sequential()\n",
    "model3.add(Conv2D(16, kernel_size=(2, 2), activation='relu', input_shape=(28,28,1)))\n",
    "# model3.add(Dropout(.5))\n",
    "model3.add(Conv2D(16, (2, 2), activation='relu'))\n",
    "# model3.add(Dropout(.5))\n",
    "model3.add(MaxPooling2D(pool_size=(2, 2)))\n",
    "model3.add(Flatten())\n",
    "# model3.add(Dropout(.5))\n",
    "model3.add(Dense(50, activation='relu'))\n",
    "model3.add(Dropout(.5))\n",
    "model3.add(Dense(50, activation='relu'))\n",
    "model3.add(Dropout(.5))\n",
    "model3.add(Dense(50, activation='relu'))\n",
    "model3.add(Dropout(.5))\n",
    "model3.add(Dense(10, activation='softmax'))\n",
    "model3.compile(loss='categorical_crossentropy',\n",
    "               optimizer=keras.optimizers.SGD(lr=0.01),\n",
    "               metrics=['accuracy'])\n",
    "model3.fit(mnist_train_images, mnist_train_labels, batch_size=32, epochs=10,\n",
    "          validation_data=(mnist_validation_images, mnist_validation_labels))\n",
    "#TODO: model0.save()"
   ]
  },
  {
   "cell_type": "code",
   "execution_count": null,
   "metadata": {},
   "outputs": [],
   "source": [
    "model4 = Sequential()\n",
    "model4.add(Conv2D(16, kernel_size=(3, 3), activation='relu', input_shape=(28,28,1)))\n",
    "# model4.add(Dropout(.5))\n",
    "model4.add(Conv2D(16, (3, 3), activation='relu'))\n",
    "# model4.add(Dropout(.5))\n",
    "model4.add(MaxPooling2D(pool_size=(2, 2)))\n",
    "# model4.add(Dropout(.5))\n",
    "model4.add(Conv2D(32, (3, 3), activation='relu'))\n",
    "# model4.add(Dropout(.5))\n",
    "model4.add(Conv2D(32, (3, 3), activation='relu'))\n",
    "# model4.add(Dropout(.5))\n",
    "model4.add(MaxPooling2D(pool_size=(2, 2)))\n",
    "model4.add(Dropout(.5))\n",
    "model4.add(Flatten())\n",
    "model4.add(Dense(50, activation='relu'))\n",
    "model4.add(Dropout(.5))\n",
    "model4.add(Dense(10, activation='softmax'))\n",
    "model4.compile(loss='categorical_crossentropy',\n",
    "               optimizer=keras.optimizers.SGD(lr=0.01),\n",
    "               metrics=['accuracy'])\n",
    "\n",
    "model4.fit(mnist_train_images, mnist_train_labels, batch_size=32, epochs=10,\n",
    "          validation_data=(mnist_validation_images, mnist_validation_labels))"
   ]
  },
  {
   "cell_type": "code",
   "execution_count": null,
   "metadata": {},
   "outputs": [],
   "source": []
  }
 ],
 "metadata": {
  "kernelspec": {
   "display_name": "Python [default]",
   "language": "python",
   "name": "python2"
  },
  "language_info": {
   "codemirror_mode": {
    "name": "ipython",
    "version": 2
   },
   "file_extension": ".py",
   "mimetype": "text/x-python",
   "name": "python",
   "nbconvert_exporter": "python",
   "pygments_lexer": "ipython2",
   "version": "2.7.12"
  }
 },
 "nbformat": 4,
 "nbformat_minor": 2
}
