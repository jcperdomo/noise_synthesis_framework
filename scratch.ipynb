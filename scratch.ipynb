{
 "cells": [
  {
   "cell_type": "code",
   "execution_count": 1,
   "metadata": {},
   "outputs": [],
   "source": [
    "%load_ext autoreload\n",
    "%load_ext line_profiler"
   ]
  },
  {
   "cell_type": "code",
   "execution_count": 2,
   "metadata": {},
   "outputs": [],
   "source": [
    "from linear_models import LinearOneVsAllClassifier\n",
    "import numpy as np\n",
    "import noise_functions_multi as noise\n",
    "import time\n",
    "import ray\n",
    "from utils import find_noise_bounds_multi\n",
    "%autoreload 2"
   ]
  },
  {
   "cell_type": "code",
   "execution_count": 3,
   "metadata": {},
   "outputs": [
    {
     "name": "stdout",
     "output_type": "stream",
     "text": [
      "Process STDOUT and STDERR is being redirected to /tmp/raylogs/.\n",
      "Waiting for redis server at 127.0.0.1:64283 to respond...\n",
      "Waiting for redis server at 127.0.0.1:56005 to respond...\n",
      "Starting local scheduler with the following resources: {'GPU': 0, 'CPU': 4}.\n",
      "\n",
      "======================================================================\n",
      "View the web UI at http://localhost:8901/notebooks/ray_ui28413.ipynb?token=516c85f82bbc49e0fbd22631acd137060e222be972b8cec5\n",
      "======================================================================\n",
      "\n"
     ]
    },
    {
     "data": {
      "text/plain": [
       "{'local_scheduler_socket_names': ['/tmp/scheduler14902983'],\n",
       " 'node_ip_address': '127.0.0.1',\n",
       " 'object_store_addresses': [ObjectStoreAddress(name='/tmp/plasma_store30836672', manager_name='/tmp/plasma_manager19936828', manager_port=44441)],\n",
       " 'redis_address': '127.0.0.1:64283',\n",
       " 'webui_url': 'http://localhost:8901/notebooks/ray_ui28413.ipynb?token=516c85f82bbc49e0fbd22631acd137060e222be972b8cec5'}"
      ]
     },
     "execution_count": 3,
     "metadata": {},
     "output_type": "execute_result"
    }
   ],
   "source": [
    "ray.init()"
   ]
  },
  {
   "cell_type": "code",
   "execution_count": 4,
   "metadata": {},
   "outputs": [],
   "source": [
    "linear_models = [LinearOneVsAllClassifier(10, np.load('linear_models/multi/w_{}.npy'.format(i)), np.load('linear_models/multi/b_{}.npy'.format(i)))\n",
    "                 for i in range(5)]"
   ]
  },
  {
   "cell_type": "code",
   "execution_count": 5,
   "metadata": {},
   "outputs": [],
   "source": [
    "X_exp = np.load('linear_experiments_data/multi/X_exp.npy')\n",
    "Y_exp = np.load('linear_experiments_data/multi/Y_exp.npy')"
   ]
  },
  {
   "cell_type": "code",
   "execution_count": 22,
   "metadata": {},
   "outputs": [
    {
     "data": {
      "text/plain": [
       "array([7])"
      ]
     },
     "execution_count": 22,
     "metadata": {},
     "output_type": "execute_result"
    }
   ],
   "source": [
    "linear_models[0].predict(X_exp[:1])"
   ]
  },
  {
   "cell_type": "code",
   "execution_count": 44,
   "metadata": {},
   "outputs": [
    {
     "data": {
      "text/plain": [
       "Timer unit: 1e-06 s\n",
       "\n",
       "Total time: 1.03265 s\n",
       "File: /Users/juanperdomo/universal_noise_generators/noise_functions_multi.py\n",
       "Function: grad_desc_convex at line 112\n",
       "\n",
       "Line #      Hits         Time  Per Hit   % Time  Line Contents\n",
       "==============================================================\n",
       "   112                                           def grad_desc_convex(distribution, models, x, y, alpha, target=False, learning_rate=.01, iters=2000, early_stop=5,\n",
       "   113                                                                box_min=0.0, box_max=1.0):\n",
       "   114         1         11.0     11.0      0.0      if target:\n",
       "   115                                                   return grad_desc_targeted(distribution, models, x, target, alpha, learning_rate, iters, early_stop, box_min,\n",
       "   116                                                                             box_max)[1]\n",
       "   117                                               else:\n",
       "   118         1          4.0      4.0      0.0          other_labels = range(10)\n",
       "   119         1          2.0      2.0      0.0          del other_labels[y]\n",
       "   120                                                   # noise_options = []\n",
       "   121                                                   # for label in other_labels:\n",
       "   122                                                   #     sol = grad_desc_targeted.remote(distribution, models, x, label, alpha, learning_rate, iters, early_stop,\n",
       "   123                                                   #                                     box_min, box_max) # make this memory efficient\n",
       "   124                                                   #     sol = ray.get(sol)\n",
       "   125                                                   #     noise_options.append(sol)\n",
       "   126                                                   #     if sol[0] == 0:\n",
       "   127                                                   #         return sol[1]\n",
       "   128                                                   # return min(noise_options, key=lambda v: v[0])[1]\n",
       "   129         1          3.0      3.0      0.0          best_sol = (sys.maxint, None)\n",
       "   130        10         11.0      1.1      0.0          for label in other_labels:\n",
       "   131         9          7.0      0.8      0.0              sol = grad_desc_targeted(distribution, models, x, label, alpha, learning_rate, iters, early_stop, box_min,\n",
       "   132         9    1032581.0 114731.2    100.0                                       box_max)\n",
       "   133                                                       # sol = ray.get(sol)\n",
       "   134         9         15.0      1.7      0.0              if sol[0] < best_sol[0]:\n",
       "   135         3          5.0      1.7      0.0                  best_sol = sol\n",
       "   136         9          8.0      0.9      0.0              if best_sol[0] == 0.0:\n",
       "   137                                                           return best_sol[1]\n",
       "   138         1          0.0      0.0      0.0          return best_sol[1]"
      ]
     },
     "metadata": {},
     "output_type": "display_data"
    }
   ],
   "source": [
    "%lprun -f noise.grad_desc_convex noise.grad_desc_convex([1], linear_models[:1], X_exp[0], Y_exp[0], .5)"
   ]
  },
  {
   "cell_type": "code",
   "execution_count": 43,
   "metadata": {},
   "outputs": [
    {
     "name": "stdout",
     "output_type": "stream",
     "text": [
      "0.5953985827438367\n"
     ]
    },
    {
     "data": {
      "text/plain": [
       "array([3])"
      ]
     },
     "execution_count": 43,
     "metadata": {},
     "output_type": "execute_result"
    }
   ],
   "source": [
    "print np.linalg.norm(v)\n",
    "linear_models[0].predict((X_exp[0] + v).reshape(1,-1))"
   ]
  },
  {
   "cell_type": "code",
   "execution_count": null,
   "metadata": {},
   "outputs": [],
   "source": [
    "find_noise_bounds_multi(linear_models[:1], X_exp[:1])"
   ]
  },
  {
   "cell_type": "code",
   "execution_count": null,
   "metadata": {},
   "outputs": [],
   "source": [
    "np.linalg.norm(v[1])"
   ]
  },
  {
   "cell_type": "code",
   "execution_count": null,
   "metadata": {},
   "outputs": [],
   "source": [
    "s = time.time()\n",
    "results = [noise.grad_desc_nonconvex.remote([1,1,1,1,1], linear_models, X_exp[i], Y_exp[i], 1) for i in xrange(500)]\n",
    "res = ray.get(results)\n",
    "print time.time() - s "
   ]
  },
  {
   "cell_type": "code",
   "execution_count": null,
   "metadata": {},
   "outputs": [],
   "source": [
    "s = time.time()\n",
    "results = [noise.grad_desc_nonconvex([1,1,1,1,1], linear_models, X_exp[i], Y_exp[i], 1) for i in xrange(500)]\n",
    "print time.time() - s "
   ]
  },
  {
   "cell_type": "code",
   "execution_count": null,
   "metadata": {},
   "outputs": [],
   "source": [
    "[model.evaluate((X_exp[0] + v).reshape(1,-1), Y_exp[0]) for model in linear_models]"
   ]
  },
  {
   "cell_type": "code",
   "execution_count": null,
   "metadata": {},
   "outputs": [],
   "source": []
  }
 ],
 "metadata": {
  "kernelspec": {
   "display_name": "Python [default]",
   "language": "python",
   "name": "python2"
  },
  "language_info": {
   "codemirror_mode": {
    "name": "ipython",
    "version": 2
   },
   "file_extension": ".py",
   "mimetype": "text/x-python",
   "name": "python",
   "nbconvert_exporter": "python",
   "pygments_lexer": "ipython2",
   "version": "2.7.12"
  }
 },
 "nbformat": 4,
 "nbformat_minor": 2
}
