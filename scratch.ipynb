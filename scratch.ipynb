{
 "cells": [
  {
   "cell_type": "code",
   "execution_count": 1,
   "metadata": {},
   "outputs": [],
   "source": [
    "%load_ext autoreload"
   ]
  },
  {
   "cell_type": "code",
   "execution_count": 2,
   "metadata": {},
   "outputs": [],
   "source": [
    "%autoreload\n",
    "%autoreload 2"
   ]
  },
  {
   "cell_type": "code",
   "execution_count": 3,
   "metadata": {},
   "outputs": [
    {
     "name": "stderr",
     "output_type": "stream",
     "text": [
      "Using TensorFlow backend.\n"
     ]
    }
   ],
   "source": [
    "import numpy as np\n",
    "import tensorflow as tf\n",
    "import keras\n",
    "from keras.models import model_from_json\n",
    "from mnist_dl_models import load_model\n",
    "from tensorflow.examples.tutorials.mnist import input_data\n",
    "from noise_functions_dl import GradientDescentDL"
   ]
  },
  {
   "cell_type": "code",
   "execution_count": 4,
   "metadata": {},
   "outputs": [
    {
     "name": "stdout",
     "output_type": "stream",
     "text": [
      "Extracting MNIST_data/train-images-idx3-ubyte.gz\n",
      "Extracting MNIST_data/train-labels-idx1-ubyte.gz\n",
      "Extracting MNIST_data/t10k-images-idx3-ubyte.gz\n",
      "Extracting MNIST_data/t10k-labels-idx1-ubyte.gz\n"
     ]
    }
   ],
   "source": [
    "mnist = input_data.read_data_sets(\"MNIST_data/\", one_hot=True)\n",
    "mnist_train_images = mnist.train.images.reshape(-1, 28, 28, 1)\n",
    "mnist_train_labels = mnist.train.labels\n",
    "mnist_test_images = mnist.test.images.reshape(-1, 28, 28, 1)\n",
    "mnist_test_labels = mnist.test.labels\n",
    "mnist_validation_images = mnist.test.images.reshape(-1, 28, 28, 1)\n",
    "mnist_validation_labels = mnist.test.labels"
   ]
  },
  {
   "cell_type": "code",
   "execution_count": null,
   "metadata": {},
   "outputs": [],
   "source": [
    "with tf.Session() as sess:\n",
    "    models = [load_model(i, 'mnist_dl_models/model_{}_weights.h5'.format(i)) for i in range(3)]\n",
    "#     print [model.evaluate(mnist_test_images[:10], mnist_test_labels[:10]) for model in models[:3]]\n",
    "    x = mnist_test_images[:1]\n",
    "    y = mnist_test_labels[:1]\n",
    "    dataset_params = [28, 1, 10, (0.0, 1.0)]\n",
    "    alpha = 3.0\n",
    "    attack_obj = GradientDescentDL(sess, models, alpha, dataset_params, targeted=False,\n",
    "                                   batch_size=1, max_iterations=10000, learning_rate=.001,\n",
    "                                   confidence=0)\n",
    "    v = attack_obj.attack(x, y, [1.0, 1.0, 1.0])[0]"
   ]
  },
  {
   "cell_type": "code",
   "execution_count": 5,
   "metadata": {},
   "outputs": [],
   "source": [
    "models = [load_model(i, 'mnist_dl_models/model_{}_weights.h5'.format(i)) for i in range(5)]"
   ]
  },
  {
   "cell_type": "code",
   "execution_count": 19,
   "metadata": {},
   "outputs": [],
   "source": [
    "def generate_exp_data_dl(num_pts, models, X, Y):\n",
    "    num_selected = 0\n",
    "    res_X = []\n",
    "    res_Y = []\n",
    "    print len(X)\n",
    "    for i in xrange(len(X)):\n",
    "        if sum([model.evaluate(X[i:i + 1], Y[i:i + 1], verbose=0)[1] for model in models]) == len(models):\n",
    "            res_X.append(X[i])\n",
    "            res_Y.append(Y[i])\n",
    "            num_selected += 1\n",
    "        if num_selected == num_pts:\n",
    "            break\n",
    "    if num_selected != num_pts:\n",
    "        print \"not enough points were classified correctly\"\n",
    "    return np.array(res_X), np.array(res_Y)"
   ]
  },
  {
   "cell_type": "code",
   "execution_count": 20,
   "metadata": {},
   "outputs": [
    {
     "data": {
      "text/plain": [
       "<function numpy.core.multiarray.concatenate>"
      ]
     },
     "execution_count": 20,
     "metadata": {},
     "output_type": "execute_result"
    }
   ],
   "source": [
    "np.concatenate"
   ]
  },
  {
   "cell_type": "code",
   "execution_count": 21,
   "metadata": {},
   "outputs": [
    {
     "name": "stdout",
     "output_type": "stream",
     "text": [
      "10000\n",
      "0\n",
      "500\n",
      "1000\n"
     ]
    }
   ],
   "source": [
    "X, Y = generate_exp_data_dl(1000, models, mnist_test_images, mnist_test_labels)"
   ]
  },
  {
   "cell_type": "code",
   "execution_count": 22,
   "metadata": {},
   "outputs": [
    {
     "data": {
      "text/plain": [
       "1000"
      ]
     },
     "execution_count": 22,
     "metadata": {},
     "output_type": "execute_result"
    }
   ],
   "source": [
    "len(X)"
   ]
  },
  {
   "cell_type": "code",
   "execution_count": 23,
   "metadata": {},
   "outputs": [
    {
     "name": "stdout",
     "output_type": "stream",
     "text": [
      "1000/1000 [==============================] - 1s 970us/step\n",
      "1000/1000 [==============================] - 2s 2ms/step\n",
      "1000/1000 [==============================] - 1s 1ms/step\n",
      "1000/1000 [==============================] - 0s 218us/step\n",
      "1000/1000 [==============================] - 0s 391us/step\n"
     ]
    },
    {
     "data": {
      "text/plain": [
       "[[0.0036803178009577097, 1.0],\n",
       " [0.0019139794217408054, 1.0],\n",
       " [0.0045544123961299195, 1.0],\n",
       " [0.024677677407860758, 1.0],\n",
       " [0.003316722711431794, 1.0]]"
      ]
     },
     "execution_count": 23,
     "metadata": {},
     "output_type": "execute_result"
    }
   ],
   "source": [
    "[model.evaluate(np.array(X),np.array(Y)) for model in models]"
   ]
  },
  {
   "cell_type": "code",
   "execution_count": 25,
   "metadata": {},
   "outputs": [],
   "source": [
    "np.save('dl_experiments_data/mnist/X_exp.npy', X)\n",
    "np.save('dl_experiments_data/mnist/Y_exp.npy', Y)"
   ]
  },
  {
   "cell_type": "code",
   "execution_count": null,
   "metadata": {},
   "outputs": [],
   "source": []
  }
 ],
 "metadata": {
  "kernelspec": {
   "display_name": "Python [default]",
   "language": "python",
   "name": "python2"
  },
  "language_info": {
   "codemirror_mode": {
    "name": "ipython",
    "version": 2
   },
   "file_extension": ".py",
   "mimetype": "text/x-python",
   "name": "python",
   "nbconvert_exporter": "python",
   "pygments_lexer": "ipython2",
   "version": "2.7.12"
  }
 },
 "nbformat": 4,
 "nbformat_minor": 2
}
