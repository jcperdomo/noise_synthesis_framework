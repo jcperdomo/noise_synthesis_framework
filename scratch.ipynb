{
 "cells": [
  {
   "cell_type": "code",
   "execution_count": 1,
   "metadata": {},
   "outputs": [],
   "source": [
    "%load_ext autoreload"
   ]
  },
  {
   "cell_type": "code",
   "execution_count": 2,
   "metadata": {},
   "outputs": [],
   "source": [
    "from linear_models import LinearOneVsAllClassifier\n",
    "import numpy as np\n",
    "import noise_functions_multi as noise\n",
    "import time\n",
    "import ray\n",
    "from utils import find_noise_bounds_multi\n",
    "%autoreload 2"
   ]
  },
  {
   "cell_type": "code",
   "execution_count": 3,
   "metadata": {},
   "outputs": [
    {
     "name": "stdout",
     "output_type": "stream",
     "text": [
      "Process STDOUT and STDERR is being redirected to /tmp/raylogs/.\n",
      "Waiting for redis server at 127.0.0.1:50054 to respond...\n",
      "Waiting for redis server at 127.0.0.1:37417 to respond...\n",
      "Starting local scheduler with the following resources: {'GPU': 0, 'CPU': 4}.\n",
      "\n",
      "======================================================================\n",
      "View the web UI at http://localhost:8896/notebooks/ray_ui1239.ipynb?token=f9780efb8bf53b4125b1ddc8a8b0eb701406afa73ec2e858\n",
      "======================================================================\n",
      "\n"
     ]
    },
    {
     "data": {
      "text/plain": [
       "{'local_scheduler_socket_names': ['/tmp/scheduler95728787'],\n",
       " 'node_ip_address': '127.0.0.1',\n",
       " 'object_store_addresses': [ObjectStoreAddress(name='/tmp/plasma_store87254246', manager_name='/tmp/plasma_manager69738534', manager_port=56048)],\n",
       " 'redis_address': '127.0.0.1:50054',\n",
       " 'webui_url': 'http://localhost:8896/notebooks/ray_ui1239.ipynb?token=f9780efb8bf53b4125b1ddc8a8b0eb701406afa73ec2e858'}"
      ]
     },
     "execution_count": 3,
     "metadata": {},
     "output_type": "execute_result"
    }
   ],
   "source": [
    "ray.init()"
   ]
  },
  {
   "cell_type": "code",
   "execution_count": 4,
   "metadata": {},
   "outputs": [],
   "source": [
    "linear_models = [LinearOneVsAllClassifier(10, np.load('linear_models/multi/w_{}.npy'.format(i)), np.load('linear_models/multi/b_{}.npy'.format(i)))\n",
    "                 for i in range(5)]"
   ]
  },
  {
   "cell_type": "code",
   "execution_count": 5,
   "metadata": {},
   "outputs": [],
   "source": [
    "X_exp = np.load('linear_experiments_data/multi/X_exp.npy')\n",
    "Y_exp = np.load('linear_experiments_data/multi/Y_exp.npy')"
   ]
  },
  {
   "cell_type": "code",
   "execution_count": null,
   "metadata": {},
   "outputs": [],
   "source": [
    "linear_models[0].predict(X_exp[:1])"
   ]
  },
  {
   "cell_type": "code",
   "execution_count": 14,
   "metadata": {},
   "outputs": [
    {
     "name": "stdout",
     "output_type": "stream",
     "text": [
      "0.468487977982\n"
     ]
    }
   ],
   "source": [
    "s = time.time()\n",
    "v = noise.grad_desc_convex.remote([1], linear_models[:1], X_exp[0], Y_exp[0], .2)\n",
    "v = ray.get(v)\n",
    "print time.time() - s "
   ]
  },
  {
   "cell_type": "code",
   "execution_count": null,
   "metadata": {},
   "outputs": [],
   "source": [
    "print v.shape\n",
    "print np.linalg.norm(v)"
   ]
  },
  {
   "cell_type": "code",
   "execution_count": null,
   "metadata": {},
   "outputs": [],
   "source": [
    "linear_models[0].predict((X_exp[0] + v).reshape(1,-1))"
   ]
  },
  {
   "cell_type": "code",
   "execution_count": null,
   "metadata": {},
   "outputs": [],
   "source": [
    "mnist_images"
   ]
  },
  {
   "cell_type": "code",
   "execution_count": null,
   "metadata": {},
   "outputs": [],
   "source": [
    "find_noise_bounds_multi(linear_models[:1], X_exp[:1])"
   ]
  },
  {
   "cell_type": "code",
   "execution_count": null,
   "metadata": {},
   "outputs": [],
   "source": [
    "np.linalg.norm(v[1])"
   ]
  },
  {
   "cell_type": "code",
   "execution_count": null,
   "metadata": {},
   "outputs": [],
   "source": [
    "s = time.time()\n",
    "results = [noise.grad_desc_nonconvex.remote([1,1,1,1,1], linear_models, X_exp[i], Y_exp[i], 1) for i in xrange(500)]\n",
    "res = ray.get(results)\n",
    "print time.time() - s "
   ]
  },
  {
   "cell_type": "code",
   "execution_count": null,
   "metadata": {},
   "outputs": [],
   "source": [
    "s = time.time()\n",
    "results = [noise.grad_desc_nonconvex([1,1,1,1,1], linear_models, X_exp[i], Y_exp[i], 1) for i in xrange(500)]\n",
    "print time.time() - s "
   ]
  },
  {
   "cell_type": "code",
   "execution_count": null,
   "metadata": {},
   "outputs": [],
   "source": [
    "[model.evaluate((X_exp[0] + v).reshape(1,-1), Y_exp[0]) for model in linear_models]"
   ]
  },
  {
   "cell_type": "code",
   "execution_count": null,
   "metadata": {},
   "outputs": [],
   "source": []
  }
 ],
 "metadata": {
  "kernelspec": {
   "display_name": "Python [default]",
   "language": "python",
   "name": "python2"
  },
  "language_info": {
   "codemirror_mode": {
    "name": "ipython",
    "version": 2
   },
   "file_extension": ".py",
   "mimetype": "text/x-python",
   "name": "python",
   "nbconvert_exporter": "python",
   "pygments_lexer": "ipython2",
   "version": "2.7.12"
  }
 },
 "nbformat": 4,
 "nbformat_minor": 2
}
