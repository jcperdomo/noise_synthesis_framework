{
 "cells": [
  {
   "cell_type": "code",
   "execution_count": null,
   "metadata": {},
   "outputs": [],
   "source": [
    "%load_ext autoreload\n",
    "%autoreload 2"
   ]
  },
  {
   "cell_type": "code",
   "execution_count": 1,
   "metadata": {},
   "outputs": [
    {
     "name": "stderr",
     "output_type": "stream",
     "text": [
      "Using TensorFlow backend.\n"
     ]
    }
   ],
   "source": [
    "import cleverhans\n",
    "from cleverhans.attacks import FastGradientMethod, MadryEtAl, MomentumIterativeMethod\n",
    "from mnist_dl_models import load_model\n",
    "from cleverhans.utils_keras import KerasModelWrapper\n",
    "from cleverhans.model import EnsembleWrapper\n",
    "import numpy as np\n",
    "import tensorflow as tf\n",
    "from keras.layers import Input\n",
    "from keras.models import Model\n",
    "from keras.layers import Average\n",
    "import matplotlib.pyplot as plt\n",
    "%matplotlib inline"
   ]
  },
  {
   "cell_type": "code",
   "execution_count": 2,
   "metadata": {},
   "outputs": [],
   "source": [
    "def ensembleModels(models, model_input):\n",
    "    # taken from https://medium.com/@twt446/ensemble-and-store-models-in-keras-2-x-b881a6d7693f\n",
    "    yModels=[model(model_input) for model in models]\n",
    "    yAvg=Average()(yModels)\n",
    "    modelEns = Model(inputs=model_input, outputs=yAvg, name='ensemble')\n",
    "    return modelEns"
   ]
  },
  {
   "cell_type": "code",
   "execution_count": null,
   "metadata": {},
   "outputs": [],
   "source": [
    "alpha = 3.0\n",
    "clip_min = 0.0\n",
    "clip_max = 1.0\n",
    "\n",
    "with tf.Session() as sess:\n",
    "    model_path = 'mnist_dl_models'\n",
    "    models = [load_model(i, '{}/model_{}_weights.h5'.format(model_path, i)) for i in range(5)]\n",
    "    X_exp = np.load('dl_experiments_data/mnist/X_exp.npy')[:100]\n",
    "    Y_exp = np.load('dl_experiments_data/mnist/Y_exp.npy')[:100]\n",
    "    \n",
    "    model_input = Input(shape=models[0].input_shape[1:])\n",
    "    ensemble = ensembleModels(models, model_input)\n",
    "    ensemble.compile(optimizer=\"adam\", loss='categorical_crossentropy', metrics=['accuracy'])\n",
    "\n",
    "    wrap = EnsembleWrapper(ensemble)\n",
    "    \n",
    "    fgm = FastGradientMethod(wrap, sess=sess)\n",
    "    madry = MadryEtAl(wrap, sess=sess)\n",
    "    mim = MomentumIterativeMethod(wrap, sess=sess)\n",
    "    \n",
    "    fgm_params = {'eps': alpha,\n",
    "                  'clip_min': clip_min,\n",
    "                  'clip_max': clip_max,\n",
    "                  'ord': 2,\n",
    "                  'y': Y_exp}\n",
    "    \n",
    "    adv_fgm = fgm.generate_np(X_exp, **fgm_params)\n",
    "    \n",
    "    madry_params = {'eps': alpha,\n",
    "                    'eps_iter': .01,\n",
    "                    'nb_iter': 400,\n",
    "                    'clip_min': clip_min,\n",
    "                    'clip_max': clip_max, \n",
    "                    'ord': 2,\n",
    "                    'y': Y_exp}\n",
    "    \n",
    "    adv_madry = madry.generate_np(X_exp, **madry_params)\n",
    "\n",
    "    mim_params = {'eps': alpha,\n",
    "                  'eps_iter': alpha / 5.0,\n",
    "                  'nb_iter': 5,\n",
    "                  'clip_min': clip_min,\n",
    "                  'clip_max': clip_max, \n",
    "                  'ord': 2, \n",
    "                  'decay_factor': 1.0,\n",
    "                  'y': Y_exp}\n",
    "    \n",
    "    adv_mim = mim.generate_np(X_exp, **mim_params)"
   ]
  },
  {
   "cell_type": "code",
   "execution_count": null,
   "metadata": {},
   "outputs": [],
   "source": [
    "np.save(\"mnist_fgm_baseline.npy\", adv_fgm)\n",
    "np.save(\"mnist_madry_baseline.npy\", adv_madry)\n",
    "np.save(\"mnist_mim_baseline.npy\", adv_mim)"
   ]
  },
  {
   "cell_type": "code",
   "execution_count": 8,
   "metadata": {},
   "outputs": [],
   "source": [
    "adv_fgm = np.load(\"mnist_fgm_baseline.npy\")\n",
    "adv_madry = np.load(\"mnist_madry_baseline.npy\")\n",
    "adv_mim = np.load(\"mnist_mim_baseline.npy\")"
   ]
  },
  {
   "cell_type": "code",
   "execution_count": 4,
   "metadata": {},
   "outputs": [],
   "source": [
    "V_mwu = np.load('experiment_results/deepLearning_mnist_run2_untargeted_3.0_5_10/noise.npy')"
   ]
  },
  {
   "cell_type": "code",
   "execution_count": null,
   "metadata": {},
   "outputs": [],
   "source": [
    "V_mwu.shape"
   ]
  },
  {
   "cell_type": "code",
   "execution_count": 3,
   "metadata": {},
   "outputs": [],
   "source": [
    "model_path = 'mnist_dl_models'\n",
    "models = [load_model(i, '{}/model_{}_weights.h5'.format(model_path, i)) for i in range(5)]\n",
    "X_exp = np.load('dl_experiments_data/mnist/X_exp.npy')[:100]\n",
    "Y_exp = np.load('dl_experiments_data/mnist/Y_exp.npy')[:100]"
   ]
  },
  {
   "cell_type": "code",
   "execution_count": 18,
   "metadata": {},
   "outputs": [],
   "source": [
    "accs = []\n",
    "for V in V_mwu:\n",
    "    accs.append([model.evaluate(X_exp + V, Y_exp, verbose=0)[1] for model in models])"
   ]
  },
  {
   "cell_type": "code",
   "execution_count": 19,
   "metadata": {},
   "outputs": [],
   "source": [
    "accs = np.array(accs)"
   ]
  },
  {
   "cell_type": "code",
   "execution_count": 20,
   "metadata": {},
   "outputs": [
    {
     "data": {
      "text/plain": [
       "(50, 5)"
      ]
     },
     "execution_count": 20,
     "metadata": {},
     "output_type": "execute_result"
    }
   ],
   "source": [
    "accs.shape"
   ]
  },
  {
   "cell_type": "code",
   "execution_count": 24,
   "metadata": {},
   "outputs": [],
   "source": [
    "mwu_accs = []\n",
    "for i in xrange(50):\n",
    "    if i == 0:\n",
    "        avg_acc = accs[0,:]\n",
    "    else:\n",
    "        avg_acc = np.mean(accs[:i,:], axis=0)\n",
    "    max_acc = max(avg_acc)\n",
    "    mwu_accs.append(max_acc)"
   ]
  },
  {
   "cell_type": "code",
   "execution_count": 25,
   "metadata": {},
   "outputs": [
    {
     "data": {
      "text/plain": [
       "[0.27,\n",
       " 0.27,\n",
       " 0.25,\n",
       " 0.24333333333333332,\n",
       " 0.2375,\n",
       " 0.236,\n",
       " 0.23666666666666666,\n",
       " 0.23285714285714285,\n",
       " 0.23249999999999998,\n",
       " 0.23111111111111113,\n",
       " 0.231,\n",
       " 0.2290909090909091,\n",
       " 0.2275,\n",
       " 0.22692307692307695,\n",
       " 0.22428571428571428,\n",
       " 0.22466666666666668,\n",
       " 0.22437500000000002,\n",
       " 0.2235294117647059,\n",
       " 0.22333333333333336,\n",
       " 0.2242105263157895,\n",
       " 0.22500000000000003,\n",
       " 0.2266666666666667,\n",
       " 0.22590909090909095,\n",
       " 0.22695652173913047,\n",
       " 0.22875,\n",
       " 0.23,\n",
       " 0.2296153846153846,\n",
       " 0.2288888888888889,\n",
       " 0.2282142857142857,\n",
       " 0.2279310344827586,\n",
       " 0.228,\n",
       " 0.22774193548387095,\n",
       " 0.2278125,\n",
       " 0.22727272727272727,\n",
       " 0.22647058823529412,\n",
       " 0.226,\n",
       " 0.2255555555555556,\n",
       " 0.22594594594594597,\n",
       " 0.22552631578947374,\n",
       " 0.2251282051282052,\n",
       " 0.2255000000000001,\n",
       " 0.22585365853658546,\n",
       " 0.22619047619047628,\n",
       " 0.2267441860465117,\n",
       " 0.22727272727272735,\n",
       " 0.22688888888888897,\n",
       " 0.22695652173913053,\n",
       " 0.2265957446808512,\n",
       " 0.22645833333333346,\n",
       " 0.226122448979592]"
      ]
     },
     "execution_count": 25,
     "metadata": {},
     "output_type": "execute_result"
    }
   ],
   "source": [
    "mwu_accs"
   ]
  },
  {
   "cell_type": "code",
   "execution_count": 9,
   "metadata": {},
   "outputs": [
    {
     "name": "stdout",
     "output_type": "stream",
     "text": [
      "100/100 [==============================] - 0s 1ms/step\n",
      "100/100 [==============================] - 0s 3ms/step\n",
      "100/100 [==============================] - 0s 1ms/step\n",
      "100/100 [==============================] - 0s 298us/step\n",
      "100/100 [==============================] - 0s 519us/step\n",
      "100/100 [==============================] - 0s 1ms/step\n",
      "100/100 [==============================] - 0s 3ms/step\n",
      "100/100 [==============================] - 0s 1ms/step\n",
      "100/100 [==============================] - 0s 325us/step\n",
      "100/100 [==============================] - 0s 644us/step\n",
      "100/100 [==============================] - 0s 1ms/step\n",
      "100/100 [==============================] - 0s 3ms/step\n",
      "100/100 [==============================] - 0s 1ms/step\n",
      "100/100 [==============================] - 0s 264us/step\n",
      "100/100 [==============================] - 0s 512us/step\n"
     ]
    }
   ],
   "source": [
    "fgm_acc = max([model.evaluate(adv_fgm, Y_exp)[1] for model in models])\n",
    "madry_acc = max([model.evaluate(adv_madry, Y_exp)[1] for model in models])\n",
    "mim_acc = max([model.evaluate(adv_mim, Y_exp)[1] for model in models])"
   ]
  },
  {
   "cell_type": "code",
   "execution_count": 49,
   "metadata": {},
   "outputs": [
    {
     "data": {
      "image/png": "[encoded data removed]",
      "text/plain": [
       "<matplotlib.figure.Figure at 0x129a7fb50>"
      ]
     },
     "metadata": {},
     "output_type": "display_data"
    }
   ],
   "source": [
    "plt.plot(range(50), [fgm_acc] * 50, linestyle='--', color='blue', label='FGM')\n",
    "plt.plot(range(50), [madry_acc] * 50, linestyle='--', color='red', label='Madry')\n",
    "plt.plot(range(50), [mim_acc] * 50, linestyle='--', color='green', label='Momentum Iterative Method ')\n",
    "plt.plot(range(50), mwu_accs, color='purple', label='DB Boost - PGD Nonconvex Hinge')\n",
    "plt.legend(fontsize=9,bbox_to_anchor=(1.0, 0.55))\n",
    "plt.ylabel(\"Max Accuracy of Classifiers\")\n",
    "plt.xlabel(\"MWU Iteration\")\n",
    "plt.title('Evaluating DB Boost on Deep Learning MNIST')\n",
    "plt.ylim(.1,.75)\n",
    "plt.savefig('dl_mnist_boosting.png')"
   ]
  },
  {
   "cell_type": "code",
   "execution_count": null,
   "metadata": {},
   "outputs": [],
   "source": []
  }
 ],
 "metadata": {
  "kernelspec": {
   "display_name": "Python [default]",
   "language": "python",
   "name": "python2"
  },
  "language_info": {
   "codemirror_mode": {
    "name": "ipython",
    "version": 2
   },
   "file_extension": ".py",
   "mimetype": "text/x-python",
   "name": "python",
   "nbconvert_exporter": "python",
   "pygments_lexer": "ipython2",
   "version": "2.7.12"
  }
 },
 "nbformat": 4,
 "nbformat_minor": 2
}
