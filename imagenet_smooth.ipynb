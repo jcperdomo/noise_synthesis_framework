{
 "cells": [
  {
   "cell_type": "code",
   "execution_count": 1,
   "metadata": {},
   "outputs": [],
   "source": [
    "%load_ext autoreload\n",
    "%autoreload 2"
   ]
  },
  {
   "cell_type": "code",
   "execution_count": 2,
   "metadata": {},
   "outputs": [
    {
     "name": "stderr",
     "output_type": "stream",
     "text": [
      "Using TensorFlow backend.\n"
     ]
    }
   ],
   "source": [
    "import cleverhans\n",
    "from cleverhans.attacks import FastGradientMethod, MadryEtAl, MomentumIterativeMethod\n",
    "from keras.applications.resnet50 import ResNet50\n",
    "from keras.applications.densenet import DenseNet121\n",
    "from keras.applications.xception import Xception\n",
    "from keras.applications.inception_v3 import InceptionV3\n",
    "from keras.applications.vgg16 import VGG16\n",
    "from cleverhans.utils_keras import KerasModelWrapper\n",
    "from keras.applications.imagenet_utils import preprocess_input\n",
    "from cleverhans.model import EnsembleWrapper\n",
    "from keras.layers.core import Lambda\n",
    "from keras.layers import Input\n",
    "import numpy as np\n",
    "import tensorflow as tf\n",
    "from keras.layers import Input\n",
    "from keras.models import Model\n",
    "from keras.layers import Average\n",
    "import matplotlib.pyplot as plt\n",
    "%matplotlib inline"
   ]
  },
  {
   "cell_type": "code",
   "execution_count": null,
   "metadata": {},
   "outputs": [
    {
     "name": "stdout",
     "output_type": "stream",
     "text": [
      "WARNING:tensorflow:From cleverhans/attacks_tf.py:55: calling reduce_sum (from tensorflow.python.ops.math_ops) with keep_dims is deprecated and will be removed in a future version.\n",
      "Instructions for updating:\n",
      "keep_dims is deprecated, use keepdims instead\n",
      "WARNING:tensorflow:From cleverhans/utils_tf.py:37: softmax_cross_entropy_with_logits (from tensorflow.python.ops.nn_ops) is deprecated and will be removed in a future version.\n",
      "Instructions for updating:\n",
      "\n",
      "Future major versions of TensorFlow will allow gradients to flow\n",
      "into the labels input on backprop by default.\n",
      "\n",
      "See @{tf.nn.softmax_cross_entropy_with_logits_v2}.\n",
      "\n"
     ]
    }
   ],
   "source": [
    "alpha = 3.0\n",
    "clip_min = 0.0\n",
    "clip_max = 1.0\n",
    "\n",
    "config = tf.ConfigProto()\n",
    "config.gpu_options.allow_growth=True\n",
    "\n",
    "with tf.Session(config=config) as sess:\n",
    "    input_tensor = Input(shape=(224, 224, 3))\n",
    "    tf_inputs = Lambda(lambda x: preprocess_input(x, mode='tf'))(input_tensor)\n",
    "    caffe_inputs = Lambda(lambda x: preprocess_input(x, mode='caffe'))(input_tensor)\n",
    "\n",
    "    base_inception = InceptionV3(input_tensor=input_tensor, weights=\"imagenet\", include_top=True)\n",
    "    inception = Model(inputs=input_tensor, outputs=base_inception(tf_inputs))\n",
    "\n",
    "    base_densenet = DenseNet121(input_tensor=input_tensor, weights=\"imagenet\", include_top=True)\n",
    "    densenet = Model(inputs=input_tensor, outputs=base_densenet(tf_inputs))\n",
    "\n",
    "#     base_resnet = ResNet50(input_tensor=input_tensor, weights=\"imagenet\", include_top=True)\n",
    "#     resnet = Model(inputs=input_tensor, outputs=base_resnet(caffe_inputs))\n",
    "\n",
    "#     base_vgg = VGG16(input_tensor=input_tensor, weights=\"imagenet\", include_top=True)\n",
    "#     vgg = Model(inputs=input_tensor, outputs=base_vgg(caffe_inputs))\n",
    "\n",
    "#     base_xception = Xception(input_tensor=input_tensor, weights=\"imagenet\", include_top=True)\n",
    "#     xception = Model(inputs=input_tensor, outputs=base_xception(tf_inputs))\n",
    "    \n",
    "#     models = [inception, xception, resnet, densenet, vgg]\n",
    "    models = [inception, densenet]\n",
    "\n",
    "    for model in models:\n",
    "        model.compile(optimizer=\"adam\", loss='categorical_crossentropy', metrics=['accuracy'])\n",
    "    \n",
    "    X_exp = np.load('dl_experiments_data/imagenet/X_exp.npy')[:100]\n",
    "    Y_exp = np.load('dl_experiments_data/imagenet/Y_exp.npy')[:100]\n",
    "    \n",
    "    models = [EnsembleWrapper(model) for model in models]\n",
    "    \n",
    "    model_attacks = []\n",
    "    \n",
    "    for model in models:\n",
    "        \n",
    "        fgm = FastGradientMethod(model, sess=sess)\n",
    "        madry = MadryEtAl(model, sess=sess)\n",
    "        mim = MomentumIterativeMethod(model, sess=sess)\n",
    "\n",
    "        fgm_params = {'eps': alpha,\n",
    "                      'clip_min': clip_min,\n",
    "                      'clip_max': clip_max,\n",
    "                      'ord': 2,\n",
    "                      'y': Y_exp}\n",
    "\n",
    "        adv_fgm = fgm.generate_np(X_exp, **fgm_params)\n",
    "\n",
    "        madry_params = {'eps': alpha,\n",
    "                        'eps_iter': .01,\n",
    "                        'nb_iter': 400,\n",
    "                        'clip_min': clip_min,\n",
    "                        'clip_max': clip_max, \n",
    "                        'ord': 2,\n",
    "                        'y': Y_exp}\n",
    "\n",
    "        adv_madry = madry.generate_np(X_exp, **madry_params)\n",
    "\n",
    "        mim_params = {'eps': alpha,\n",
    "                      'eps_iter': alpha / 5.0,\n",
    "                      'nb_iter': 5,\n",
    "                      'clip_min': clip_min,\n",
    "                      'clip_max': clip_max, \n",
    "                      'ord': 2, \n",
    "                      'decay_factor': 1.0,\n",
    "                      'y': Y_exp}\n",
    "\n",
    "        adv_mim = mim.generate_np(X_exp, **mim_params)\n",
    "        \n",
    "        model_attacks.append([adv_fgm, adv_madry, adv_mim])"
   ]
  },
  {
   "cell_type": "code",
   "execution_count": null,
   "metadata": {},
   "outputs": [],
   "source": []
  }
 ],
 "metadata": {
  "kernelspec": {
   "display_name": "Python 2",
   "language": "python",
   "name": "python2"
  },
  "language_info": {
   "codemirror_mode": {
    "name": "ipython",
    "version": 2
   },
   "file_extension": ".py",
   "mimetype": "text/x-python",
   "name": "python",
   "nbconvert_exporter": "python",
   "pygments_lexer": "ipython2",
   "version": "2.7.15"
  }
 },
 "nbformat": 4,
 "nbformat_minor": 2
}
