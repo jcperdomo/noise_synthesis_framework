{
 "cells": [
  {
   "cell_type": "code",
   "execution_count": 1,
   "metadata": {},
   "outputs": [
    {
     "name": "stderr",
     "output_type": "stream",
     "text": [
      "Using TensorFlow backend.\n"
     ]
    }
   ],
   "source": [
    "from keras.applications.resnet50 import ResNet50\n",
    "from keras.applications.inception_resnet_v2 import InceptionResNetV2\n",
    "from keras.applications.vgg16 import VGG16\n",
    "from keras.applications.inception_v3 import InceptionV3\n",
    "from keras.layers.core import Lambda\n",
    "from keras.applications.xception import Xception\n",
    "from keras.layers import Input\n",
    "from keras.applications.imagenet_utils import preprocess_input\n",
    "from keras.applications.densenet import DenseNet121\n",
    "from keras.models import Model\n",
    "from keras.preprocessing import image\n",
    "import numpy as np\n",
    "import tensorflow as tf\n",
    "import pandas as pd\n",
    "import os"
   ]
  },
  {
   "cell_type": "code",
   "execution_count": 2,
   "metadata": {},
   "outputs": [],
   "source": [
    "input_tensor = Input(shape=(224, 224, 3))\n",
    "tf_inputs = Lambda(lambda x: preprocess_input(x, mode='tf'))(input_tensor)\n",
    "caffe_inputs = Lambda(lambda x: preprocess_input(x, mode='caffe'))(input_tensor)\n",
    "\n",
    "base_inception = InceptionV3(input_tensor=input_tensor, weights=\"imagenet\", include_top=True)\n",
    "inception = Model(inputs=input_tensor, outputs=base_inception(tf_inputs))\n",
    "\n",
    "base_densenet = DenseNet121(input_tensor=input_tensor, weights=\"imagenet\", include_top=True)\n",
    "densenet = Model(inputs=input_tensor, outputs=base_densenet(tf_inputs))\n",
    "\n",
    "base_resnet = ResNet50(input_tensor=input_tensor, weights=\"imagenet\", include_top=True)\n",
    "resnet = Model(inputs=input_tensor, outputs=base_resnet(caffe_inputs))\n",
    "\n",
    "base_vgg = VGG16(input_tensor=input_tensor, weights=\"imagenet\", include_top=True)\n",
    "vgg = Model(inputs=input_tensor, outputs=base_vgg(caffe_inputs))\n",
    "\n",
    "base_xception = Xception(input_tensor=input_tensor, weights=\"imagenet\", include_top=True)\n",
    "xception = Model(inputs=input_tensor, outputs=base_xception(tf_inputs))\n",
    "\n",
    "models = [inception, xception, resnet, densenet, vgg]\n",
    "\n",
    "for model in models:\n",
    "    model.compile(optimizer='adam', loss='categorical_crossentropy', metrics=['accuracy'])"
   ]
  },
  {
   "cell_type": "code",
   "execution_count": 4,
   "metadata": {},
   "outputs": [],
   "source": [
    "validation_labels = pd.read_csv(\"imagenet_data/validation_labels.csv\", index_col=0)"
   ]
  },
  {
   "cell_type": "code",
   "execution_count": null,
   "metadata": {},
   "outputs": [],
   "source": [
    "validation_labels.head()"
   ]
  },
  {
   "cell_type": "code",
   "execution_count": 5,
   "metadata": {},
   "outputs": [],
   "source": [
    "experiment_data = pd.read_csv('imagenet_data/exp_data.csv')"
   ]
  },
  {
   "cell_type": "code",
   "execution_count": null,
   "metadata": {},
   "outputs": [],
   "source": [
    "experiment_data.head()"
   ]
  },
  {
   "cell_type": "code",
   "execution_count": null,
   "metadata": {},
   "outputs": [],
   "source": [
    "[model.evaluate(X_exp, Y_exp) for model in models]"
   ]
  },
  {
   "cell_type": "code",
   "execution_count": 22,
   "metadata": {},
   "outputs": [],
   "source": [
    "all_pictures = set(os.listdir('../adversarial_noise/src/test_data'))\n",
    "prev_exp = set(experiment_data['name'])\n",
    "possible_candidates = all_pictures.difference(prev_exp)"
   ]
  },
  {
   "cell_type": "code",
   "execution_count": 23,
   "metadata": {},
   "outputs": [
    {
     "data": {
      "text/plain": [
       "49902"
      ]
     },
     "execution_count": 23,
     "metadata": {},
     "output_type": "execute_result"
    }
   ],
   "source": [
    "len(possible_candidates)"
   ]
  },
  {
   "cell_type": "code",
   "execution_count": 11,
   "metadata": {},
   "outputs": [
    {
     "name": "stdout",
     "output_type": "stream",
     "text": [
      "1 1\n",
      "2 2\n",
      "3 3\n",
      "4 4\n",
      "5 5\n",
      "6 6\n",
      "7 7\n",
      "8 8\n",
      "9 9\n",
      "10 10\n",
      "11 11\n",
      "12 12\n",
      "13 13\n",
      "14 14\n",
      "15 15\n",
      "16 16\n",
      "17 17\n",
      "18 18\n",
      "19 19\n",
      "20 20\n",
      "21 21\n",
      "22 22\n",
      "23 23\n",
      "24 24\n",
      "25 25\n",
      "26 26\n",
      "27 27\n",
      "28 28\n",
      "29 29\n",
      "30 30\n",
      "31 31\n",
      "32 32\n",
      "33 33\n",
      "34 34\n",
      "35 35\n",
      "36 36\n",
      "37 37\n",
      "38 38\n",
      "39 39\n",
      "40 40\n",
      "41 41\n",
      "42 42\n",
      "43 43\n",
      "44 44\n",
      "45 45\n",
      "46 46\n",
      "47 47\n",
      "48 48\n",
      "49 49\n",
      "50 50\n",
      "51 51\n",
      "52 52\n",
      "53 53\n",
      "54 54\n",
      "55 55\n",
      "56 56\n",
      "57 57\n",
      "58 58\n",
      "59 59\n",
      "60 60\n",
      "61 61\n",
      "62 62\n",
      "63 63\n",
      "64 64\n",
      "65 65\n",
      "66 66\n",
      "67 67\n",
      "68 68\n",
      "69 69\n",
      "70 70\n",
      "71 71\n",
      "72 72\n",
      "73 73\n",
      "74 74\n",
      "75 75\n",
      "76 76\n",
      "77 77\n",
      "78 78\n",
      "79 79\n",
      "80 80\n",
      "81 81\n",
      "82 82\n",
      "83 83\n",
      "84 84\n",
      "85 85\n",
      "86 86\n",
      "87 87\n",
      "88 88\n",
      "89 89\n",
      "90 90\n",
      "91 91\n",
      "92 92\n",
      "93 93\n",
      "94 94\n",
      "95 95\n",
      "96 96\n"
     ]
    }
   ],
   "source": [
    "X_supp = []\n",
    "Y_supp = []\n",
    "img_names = []\n",
    "img_labels = []\n",
    "count = 0\n",
    "num_images = 100\n",
    "num_models = len(models)\n",
    "prev_count = 0\n",
    "    \n",
    "for img_name in prev_exp:\n",
    "    label = validation_labels.loc[validation_labels['name'] == img_name, 'label'].values[0]\n",
    "    img_path = \"imagenet_pictures/\" + img_name\n",
    "    img = image.load_img(img_path, target_size=(224, 224))\n",
    "    x = image.img_to_array(img)\n",
    "    x = np.expand_dims(x, axis=0)\n",
    "    y = (np.arange(1000) == label).astype(np.float32)\n",
    "\n",
    "    preds = [np.argmax(model.predict(x)[0]) == label for model in models]\n",
    "    num_correct = sum(preds)\n",
    "\n",
    "    if sum(preds) == num_models:\n",
    "        X_supp.append(x[0])\n",
    "        Y_supp.append(y)\n",
    "        img_names.append(img_name)\n",
    "        img_labels.append(label)\n",
    "        count += 1\n",
    "        prev_count += 1\n",
    "        print count, prev_count"
   ]
  },
  {
   "cell_type": "code",
   "execution_count": 13,
   "metadata": {},
   "outputs": [
    {
     "data": {
      "text/plain": [
       "0"
      ]
     },
     "execution_count": 13,
     "metadata": {},
     "output_type": "execute_result"
    }
   ],
   "source": [
    "len(possible_candidates)"
   ]
  },
  {
   "cell_type": "code",
   "execution_count": 25,
   "metadata": {},
   "outputs": [
    {
     "name": "stdout",
     "output_type": "stream",
     "text": [
      "97\n",
      "98\n",
      "99\n",
      "100\n"
     ]
    }
   ],
   "source": [
    "X_supp2 = []\n",
    "Y_supp2 = []\n",
    "\n",
    "for img_name in possible_candidates:\n",
    "    label = validation_labels.loc[validation_labels['name'] == img_name, 'label'].values[0]\n",
    "    img_path = \"../adversarial_noise/src/test_data/\" + img_name\n",
    "    img = image.load_img(img_path, target_size=(224, 224))\n",
    "    x = image.img_to_array(img)\n",
    "    x = np.expand_dims(x, axis=0)\n",
    "    y = (np.arange(1000) == label).astype(np.float32)\n",
    "\n",
    "    preds = [np.argmax(model.predict(x)[0]) == label for model in models]\n",
    "    num_correct = sum(preds)\n",
    "\n",
    "    if sum(preds) == num_models:\n",
    "        X_supp2.append(x[0])\n",
    "        Y_supp2.append(y)\n",
    "        img_names.append(img_name)\n",
    "        img_labels.append(label)\n",
    "        count += 1\n",
    "        print count\n",
    "\n",
    "    if count >= num_images:\n",
    "        break\n",
    "        \n",
    "X_supp2 = np.array(X_supp2)\n",
    "Y_supp2 = np.array(Y_supp2)    "
   ]
  },
  {
   "cell_type": "code",
   "execution_count": 30,
   "metadata": {},
   "outputs": [],
   "source": [
    "X_exp = np.concatenate([X_supp, X_supp2])\n",
    "Y_exp = np.concatenate([Y_supp, Y_supp2])"
   ]
  },
  {
   "cell_type": "code",
   "execution_count": 32,
   "metadata": {},
   "outputs": [],
   "source": [
    "rows = []\n",
    "for img_name in img_names:\n",
    "    rows.append(experiment_data[experiment_data.name == img_name])"
   ]
  },
  {
   "cell_type": "code",
   "execution_count": 66,
   "metadata": {},
   "outputs": [],
   "source": [
    "t = list(experiment_data[experiment_data.name.isin(img_names)].values.tolist())"
   ]
  },
  {
   "cell_type": "code",
   "execution_count": 67,
   "metadata": {},
   "outputs": [],
   "source": [
    "others = set(img_names).difference(set(experiment_data[experiment_data.name.isin(img_names)].name))"
   ]
  },
  {
   "cell_type": "code",
   "execution_count": 68,
   "metadata": {},
   "outputs": [
    {
     "data": {
      "text/html": [
       "<div>\n",
       "<table border=\"1\" class=\"dataframe\">\n",
       "  <thead>\n",
       "    <tr style=\"text-align: right;\">\n",
       "      <th></th>\n",
       "      <th>name</th>\n",
       "      <th>true_label</th>\n",
       "      <th>true_label_description</th>\n",
       "      <th>target_label</th>\n",
       "      <th>target_label_description</th>\n",
       "    </tr>\n",
       "  </thead>\n",
       "  <tbody>\n",
       "    <tr>\n",
       "      <th>0</th>\n",
       "      <td>ILSVRC2012_val_00012589.JPEG</td>\n",
       "      <td>505</td>\n",
       "      <td>coffeepot</td>\n",
       "      <td>230</td>\n",
       "      <td>Shetland sheepdog, Shetland sheep dog, Shetland</td>\n",
       "    </tr>\n",
       "    <tr>\n",
       "      <th>1</th>\n",
       "      <td>ILSVRC2012_val_00009302.JPEG</td>\n",
       "      <td>595</td>\n",
       "      <td>harvester, reaper</td>\n",
       "      <td>83</td>\n",
       "      <td>prairie chicken, prairie grouse, prairie fowl</td>\n",
       "    </tr>\n",
       "    <tr>\n",
       "      <th>2</th>\n",
       "      <td>ILSVRC2012_val_00032256.JPEG</td>\n",
       "      <td>915</td>\n",
       "      <td>yurt</td>\n",
       "      <td>917</td>\n",
       "      <td>comic book</td>\n",
       "    </tr>\n",
       "    <tr>\n",
       "      <th>3</th>\n",
       "      <td>ILSVRC2012_val_00030794.JPEG</td>\n",
       "      <td>989</td>\n",
       "      <td>hip, rose hip, rosehip</td>\n",
       "      <td>832</td>\n",
       "      <td>stupa, tope</td>\n",
       "    </tr>\n",
       "    <tr>\n",
       "      <th>4</th>\n",
       "      <td>ILSVRC2012_val_00005030.JPEG</td>\n",
       "      <td>146</td>\n",
       "      <td>albatross, mollymawk</td>\n",
       "      <td>707</td>\n",
       "      <td>pay-phone, pay-station</td>\n",
       "    </tr>\n",
       "  </tbody>\n",
       "</table>\n",
       "</div>"
      ],
      "text/plain": [
       "                           name  true_label  true_label_description  \\\n",
       "0  ILSVRC2012_val_00012589.JPEG         505               coffeepot   \n",
       "1  ILSVRC2012_val_00009302.JPEG         595       harvester, reaper   \n",
       "2  ILSVRC2012_val_00032256.JPEG         915                    yurt   \n",
       "3  ILSVRC2012_val_00030794.JPEG         989  hip, rose hip, rosehip   \n",
       "4  ILSVRC2012_val_00005030.JPEG         146    albatross, mollymawk   \n",
       "\n",
       "   target_label                         target_label_description  \n",
       "0           230  Shetland sheepdog, Shetland sheep dog, Shetland  \n",
       "1            83    prairie chicken, prairie grouse, prairie fowl  \n",
       "2           917                                       comic book  \n",
       "3           832                                      stupa, tope  \n",
       "4           707                           pay-phone, pay-station  "
      ]
     },
     "execution_count": 68,
     "metadata": {},
     "output_type": "execute_result"
    }
   ],
   "source": [
    "experiment_data.head()"
   ]
  },
  {
   "cell_type": "code",
   "execution_count": 64,
   "metadata": {},
   "outputs": [],
   "source": [
    "imagenet_labels = pd.read_csv('imagenet_labels.csv')"
   ]
  },
  {
   "cell_type": "code",
   "execution_count": 65,
   "metadata": {},
   "outputs": [
    {
     "data": {
      "text/html": [
       "<div>\n",
       "<table border=\"1\" class=\"dataframe\">\n",
       "  <thead>\n",
       "    <tr style=\"text-align: right;\">\n",
       "      <th></th>\n",
       "      <th>label</th>\n",
       "      <th>description</th>\n",
       "    </tr>\n",
       "  </thead>\n",
       "  <tbody>\n",
       "    <tr>\n",
       "      <th>0</th>\n",
       "      <td>0</td>\n",
       "      <td>tench, Tinca tinca</td>\n",
       "    </tr>\n",
       "    <tr>\n",
       "      <th>1</th>\n",
       "      <td>1</td>\n",
       "      <td>goldfish, Carassius auratus</td>\n",
       "    </tr>\n",
       "    <tr>\n",
       "      <th>2</th>\n",
       "      <td>2</td>\n",
       "      <td>great white shark, white shark, man-eater, man...</td>\n",
       "    </tr>\n",
       "    <tr>\n",
       "      <th>3</th>\n",
       "      <td>3</td>\n",
       "      <td>tiger shark, Galeocerdo cuvieri</td>\n",
       "    </tr>\n",
       "    <tr>\n",
       "      <th>4</th>\n",
       "      <td>4</td>\n",
       "      <td>hammerhead, hammerhead shark</td>\n",
       "    </tr>\n",
       "  </tbody>\n",
       "</table>\n",
       "</div>"
      ],
      "text/plain": [
       "   label                                        description\n",
       "0      0                                 tench, Tinca tinca\n",
       "1      1                        goldfish, Carassius auratus\n",
       "2      2  great white shark, white shark, man-eater, man...\n",
       "3      3                    tiger shark, Galeocerdo cuvieri\n",
       "4      4                       hammerhead, hammerhead shark"
      ]
     },
     "execution_count": 65,
     "metadata": {},
     "output_type": "execute_result"
    }
   ],
   "source": [
    "imagenet_labels."
   ]
  },
  {
   "cell_type": "code",
   "execution_count": 69,
   "metadata": {},
   "outputs": [],
   "source": [
    "others = img_names[-4:]"
   ]
  },
  {
   "cell_type": "code",
   "execution_count": 70,
   "metadata": {},
   "outputs": [],
   "source": [
    "for name in others:\n",
    "    label = validation_labels[validation_labels.name == name].label.values[0]\n",
    "    description = imagenet_labels[imagenet_labels.label == label].description.values[0]\n",
    "    t.append([name, label, description, None, None])"
   ]
  },
  {
   "cell_type": "code",
   "execution_count": 75,
   "metadata": {},
   "outputs": [],
   "source": [
    "experiment_data = pd.DataFrame(t, columns=experiment_data.columns)"
   ]
  },
  {
   "cell_type": "code",
   "execution_count": 76,
   "metadata": {},
   "outputs": [
    {
     "name": "stdout",
     "output_type": "stream",
     "text": [
      "100/100 [==============================] - 39s 388ms/step\n",
      "100/100 [==============================] - 77s 772ms/step\n",
      "100/100 [==============================] - 59s 585ms/step\n",
      "100/100 [==============================] - 64s 636ms/step\n",
      "100/100 [==============================] - 132s 1s/step\n"
     ]
    },
    {
     "data": {
      "text/plain": [
       "[[0.024925113897770645, 1.0],\n",
       " [0.03127027690410614, 1.0],\n",
       " [0.0739623986184597, 1.0],\n",
       " [0.059462333172559736, 1.0],\n",
       " [0.09292019605636596, 1.0]]"
      ]
     },
     "execution_count": 76,
     "metadata": {},
     "output_type": "execute_result"
    }
   ],
   "source": [
    "[model.evaluate(X_exp, Y_exp) for model in models]"
   ]
  },
  {
   "cell_type": "code",
   "execution_count": 78,
   "metadata": {},
   "outputs": [],
   "source": [
    "experiment_data.to_csv('imagenet_data/imagenet_experiment_data_description.csv', index=False)"
   ]
  },
  {
   "cell_type": "code",
   "execution_count": 80,
   "metadata": {},
   "outputs": [],
   "source": [
    "np.save('imagenet_data/X_exp.npy', X_exp)\n",
    "np.save('imagenet_data/Y_exp.npy', Y_exp)"
   ]
  },
  {
   "cell_type": "code",
   "execution_count": 2,
   "metadata": {},
   "outputs": [],
   "source": [
    "import numpy as np"
   ]
  },
  {
   "cell_type": "code",
   "execution_count": 4,
   "metadata": {},
   "outputs": [],
   "source": [
    "X_exp = np.load('dl_experiments_data/imagenet/X_exp.npy')\n",
    "Y_exp = np.load('dl_experiments_data/imagenet/Y_exp.npy')"
   ]
  },
  {
   "cell_type": "code",
   "execution_count": 5,
   "metadata": {},
   "outputs": [
    {
     "name": "stdout",
     "output_type": "stream",
     "text": [
      "100/100 [==============================] - 30s 299ms/step\n",
      "100/100 [==============================] - 46s 462ms/step\n",
      "100/100 [==============================] - 38s 376ms/step\n",
      "100/100 [==============================] - 45s 446ms/step\n",
      "100/100 [==============================] - 90s 905ms/step\n"
     ]
    },
    {
     "data": {
      "text/plain": [
       "[[0.024925113897770645, 1.0],\n",
       " [0.03127027690410614, 1.0],\n",
       " [0.0739623986184597, 1.0],\n",
       " [0.059462333172559736, 1.0],\n",
       " [0.09292019605636596, 1.0]]"
      ]
     },
     "execution_count": 5,
     "metadata": {},
     "output_type": "execute_result"
    }
   ],
   "source": [
    "[model.evaluate(X_exp, Y_exp) for model in models]"
   ]
  },
  {
   "cell_type": "code",
   "execution_count": 6,
   "metadata": {},
   "outputs": [
    {
     "data": {
      "text/plain": [
       "96.0"
      ]
     },
     "execution_count": 6,
     "metadata": {},
     "output_type": "execute_result"
    }
   ],
   "source": [
    "X_exp[4,5,5,1]"
   ]
  },
  {
   "cell_type": "code",
   "execution_count": null,
   "metadata": {},
   "outputs": [],
   "source": []
  }
 ],
 "metadata": {
  "kernelspec": {
   "display_name": "Python [default]",
   "language": "python",
   "name": "python2"
  },
  "language_info": {
   "codemirror_mode": {
    "name": "ipython",
    "version": 2
   },
   "file_extension": ".py",
   "mimetype": "text/x-python",
   "name": "python",
   "nbconvert_exporter": "python",
   "pygments_lexer": "ipython2",
   "version": "2.7.12"
  }
 },
 "nbformat": 4,
 "nbformat_minor": 2
}
